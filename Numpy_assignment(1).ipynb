{
 "cells": [
  {
   "cell_type": "markdown",
   "id": "fcfe7c89",
   "metadata": {},
   "source": []
  },
  {
   "cell_type": "markdown",
   "id": "0b171370",
   "metadata": {},
   "source": [
    "#  Import the numpy package under the name np "
   ]
  },
  {
   "cell_type": "code",
   "execution_count": null,
   "id": "356cfbb8",
   "metadata": {},
   "outputs": [],
   "source": [
    "import numpy as np"
   ]
  },
  {
   "cell_type": "markdown",
   "id": "f4605cf7",
   "metadata": {},
   "source": [
    "# Print the numpy version and the configuration \n"
   ]
  },
  {
   "cell_type": "code",
   "execution_count": 52,
   "id": "3c5aa145",
   "metadata": {
    "scrolled": false
   },
   "outputs": [
    {
     "data": {
      "text/plain": [
       "'1.21.5'"
      ]
     },
     "execution_count": 52,
     "metadata": {},
     "output_type": "execute_result"
    }
   ],
   "source": [
    "import numpy as np\n",
    "np. __version__"
   ]
  },
  {
   "cell_type": "markdown",
   "id": "9913b6a2",
   "metadata": {},
   "source": [
    "# Create a null vector of size 20 "
   ]
  },
  {
   "cell_type": "code",
   "execution_count": 10,
   "id": "3135c315",
   "metadata": {},
   "outputs": [],
   "source": [
    "import numpy as np\n",
    "data=np.arange(0,20)"
   ]
  },
  {
   "cell_type": "code",
   "execution_count": 11,
   "id": "e1938743",
   "metadata": {},
   "outputs": [
    {
     "data": {
      "text/plain": [
       "array([ 0,  1,  2,  3,  4,  5,  6,  7,  8,  9, 10, 11, 12, 13, 14, 15, 16,\n",
       "       17, 18, 19])"
      ]
     },
     "execution_count": 11,
     "metadata": {},
     "output_type": "execute_result"
    }
   ],
   "source": [
    "data"
   ]
  },
  {
   "cell_type": "markdown",
   "id": "51fbecbf",
   "metadata": {},
   "source": [
    "# How to find the memory size of any array "
   ]
  },
  {
   "cell_type": "code",
   "execution_count": 39,
   "id": "cbf42101",
   "metadata": {},
   "outputs": [],
   "source": [
    "import numpy as np\n",
    "data =np.array([1, 4, 7, 105, 23478, 3, 5])"
   ]
  },
  {
   "cell_type": "code",
   "execution_count": 40,
   "id": "68c10d2b",
   "metadata": {},
   "outputs": [
    {
     "data": {
      "text/plain": [
       "7"
      ]
     },
     "execution_count": 40,
     "metadata": {},
     "output_type": "execute_result"
    }
   ],
   "source": [
    "data.size     ### This attribute gives the number of elements present in the NumPy array"
   ]
  },
  {
   "cell_type": "code",
   "execution_count": 41,
   "id": "53d1461d",
   "metadata": {},
   "outputs": [
    {
     "data": {
      "text/plain": [
       "4"
      ]
     },
     "execution_count": 41,
     "metadata": {},
     "output_type": "execute_result"
    }
   ],
   "source": [
    "data.itemsize     ### This gives the memory size of each indivudual element of NumPy array in bytes"
   ]
  },
  {
   "cell_type": "code",
   "execution_count": 42,
   "id": "f0462ffb",
   "metadata": {},
   "outputs": [
    {
     "data": {
      "text/plain": [
       "28"
      ]
     },
     "execution_count": 42,
     "metadata": {},
     "output_type": "execute_result"
    }
   ],
   "source": [
    "data.size * data.itemsize  ## this is memory of this arry"
   ]
  },
  {
   "cell_type": "code",
   "execution_count": 36,
   "id": "5a3d3384",
   "metadata": {},
   "outputs": [],
   "source": [
    "x =[[1,2,3], [4,5,6], [7,8,9]]\n",
    "y = np.array(x)"
   ]
  },
  {
   "cell_type": "code",
   "execution_count": 43,
   "id": "cb6bd61e",
   "metadata": {},
   "outputs": [
    {
     "data": {
      "text/plain": [
       "9"
      ]
     },
     "execution_count": 43,
     "metadata": {},
     "output_type": "execute_result"
    }
   ],
   "source": [
    "y.size "
   ]
  },
  {
   "cell_type": "code",
   "execution_count": 44,
   "id": "a0c85716",
   "metadata": {},
   "outputs": [
    {
     "data": {
      "text/plain": [
       "4"
      ]
     },
     "execution_count": 44,
     "metadata": {},
     "output_type": "execute_result"
    }
   ],
   "source": [
    "y.itemsize"
   ]
  },
  {
   "cell_type": "code",
   "execution_count": 46,
   "id": "cb12e1ca",
   "metadata": {},
   "outputs": [
    {
     "data": {
      "text/plain": [
       "36"
      ]
     },
     "execution_count": 46,
     "metadata": {},
     "output_type": "execute_result"
    }
   ],
   "source": [
    "y.size * y.itemsize        ## this is memory of this \"y\" arry"
   ]
  },
  {
   "cell_type": "code",
   "execution_count": 61,
   "id": "627cf438",
   "metadata": {},
   "outputs": [],
   "source": [
    "x =[[1,2,3], [4,5,6], [7,8,9],[2.3,4.7,5.6]]\n",
    "y = np.array(x)"
   ]
  },
  {
   "cell_type": "code",
   "execution_count": 62,
   "id": "38915e04",
   "metadata": {},
   "outputs": [
    {
     "data": {
      "text/plain": [
       "12"
      ]
     },
     "execution_count": 62,
     "metadata": {},
     "output_type": "execute_result"
    }
   ],
   "source": [
    "y.size"
   ]
  },
  {
   "cell_type": "code",
   "execution_count": 63,
   "id": "4cc68a59",
   "metadata": {},
   "outputs": [
    {
     "data": {
      "text/plain": [
       "8"
      ]
     },
     "execution_count": 63,
     "metadata": {},
     "output_type": "execute_result"
    }
   ],
   "source": [
    "y.itemsize"
   ]
  },
  {
   "cell_type": "code",
   "execution_count": 64,
   "id": "019a2bb2",
   "metadata": {},
   "outputs": [
    {
     "data": {
      "text/plain": [
       "96"
      ]
     },
     "execution_count": 64,
     "metadata": {},
     "output_type": "execute_result"
    }
   ],
   "source": [
    "y.size * y.itemsize         ## here memory needy is more, because float is presant"
   ]
  },
  {
   "cell_type": "markdown",
   "id": "3b690c56",
   "metadata": {},
   "source": [
    "# How to get the documentation of the numpy add function from the command line? "
   ]
  },
  {
   "cell_type": "code",
   "execution_count": 92,
   "id": "3e114c95",
   "metadata": {
    "scrolled": true
   },
   "outputs": [
    {
     "data": {
      "text/plain": [
       "array([1, 2, 3])"
      ]
     },
     "execution_count": 92,
     "metadata": {},
     "output_type": "execute_result"
    }
   ],
   "source": [
    "np.array([1,2,3])"
   ]
  },
  {
   "cell_type": "code",
   "execution_count": 94,
   "id": "b1ce8f0b",
   "metadata": {},
   "outputs": [
    {
     "ename": "TypeError",
     "evalue": "add() takes from 2 to 3 positional arguments but 1 were given",
     "output_type": "error",
     "traceback": [
      "\u001b[1;31m---------------------------------------------------------------------------\u001b[0m",
      "\u001b[1;31mTypeError\u001b[0m                                 Traceback (most recent call last)",
      "\u001b[1;32m~\\AppData\\Local\\Temp\\ipykernel_1564\\2822741521.py\u001b[0m in \u001b[0;36m<module>\u001b[1;34m\u001b[0m\n\u001b[1;32m----> 1\u001b[1;33m \u001b[0mhelp\u001b[0m\u001b[1;33m(\u001b[0m\u001b[0mnp\u001b[0m\u001b[1;33m.\u001b[0m\u001b[0madd\u001b[0m\u001b[1;33m(\u001b[0m\u001b[1;33m[\u001b[0m\u001b[1;36m1\u001b[0m\u001b[1;33m,\u001b[0m\u001b[1;36m2\u001b[0m\u001b[1;33m,\u001b[0m\u001b[1;36m3\u001b[0m\u001b[1;33m]\u001b[0m\u001b[1;33m)\u001b[0m\u001b[1;33m)\u001b[0m\u001b[1;33m\u001b[0m\u001b[1;33m\u001b[0m\u001b[0m\n\u001b[0m",
      "\u001b[1;31mTypeError\u001b[0m: add() takes from 2 to 3 positional arguments but 1 were given"
     ]
    }
   ],
   "source": [
    "help()"
   ]
  },
  {
   "cell_type": "code",
   "execution_count": null,
   "id": "3e61e4bb",
   "metadata": {},
   "outputs": [],
   "source": []
  },
  {
   "cell_type": "markdown",
   "id": "d206ca71",
   "metadata": {},
   "source": [
    "# Create a null vector of size 20 but the fifth value which is 1 "
   ]
  },
  {
   "cell_type": "code",
   "execution_count": 88,
   "id": "7eedff31",
   "metadata": {},
   "outputs": [],
   "source": [
    "import numpy as np\n",
    "data=np.zeros(20)\n",
    "data[4]=1"
   ]
  },
  {
   "cell_type": "code",
   "execution_count": 89,
   "id": "a66e8668",
   "metadata": {},
   "outputs": [
    {
     "data": {
      "text/plain": [
       "array([0., 0., 0., 0., 1., 0., 0., 0., 0., 0., 0., 0., 0., 0., 0., 0., 0.,\n",
       "       0., 0., 0.])"
      ]
     },
     "execution_count": 89,
     "metadata": {},
     "output_type": "execute_result"
    }
   ],
   "source": [
    "data"
   ]
  },
  {
   "cell_type": "markdown",
   "id": "8e9b43a2",
   "metadata": {},
   "source": [
    "# Create a vector with values ranging from 10 to 68 "
   ]
  },
  {
   "cell_type": "code",
   "execution_count": 67,
   "id": "bd1d75c0",
   "metadata": {},
   "outputs": [],
   "source": [
    "import numpy as np\n",
    "data=np.arange(10,68)"
   ]
  },
  {
   "cell_type": "code",
   "execution_count": 68,
   "id": "6ef8bfac",
   "metadata": {},
   "outputs": [
    {
     "data": {
      "text/plain": [
       "array([10, 11, 12, 13, 14, 15, 16, 17, 18, 19, 20, 21, 22, 23, 24, 25, 26,\n",
       "       27, 28, 29, 30, 31, 32, 33, 34, 35, 36, 37, 38, 39, 40, 41, 42, 43,\n",
       "       44, 45, 46, 47, 48, 49, 50, 51, 52, 53, 54, 55, 56, 57, 58, 59, 60,\n",
       "       61, 62, 63, 64, 65, 66, 67])"
      ]
     },
     "execution_count": 68,
     "metadata": {},
     "output_type": "execute_result"
    }
   ],
   "source": [
    "data"
   ]
  },
  {
   "cell_type": "code",
   "execution_count": 69,
   "id": "03fa8e81",
   "metadata": {},
   "outputs": [
    {
     "data": {
      "text/plain": [
       "232"
      ]
     },
     "execution_count": 69,
     "metadata": {},
     "output_type": "execute_result"
    }
   ],
   "source": [
    "data.size * data.itemsize      ## here memory is 232 ytes (58*4)"
   ]
  },
  {
   "cell_type": "code",
   "execution_count": 70,
   "id": "668fd4a1",
   "metadata": {},
   "outputs": [
    {
     "data": {
      "text/plain": [
       "58"
      ]
     },
     "execution_count": 70,
     "metadata": {},
     "output_type": "execute_result"
    }
   ],
   "source": [
    "len(data)"
   ]
  },
  {
   "cell_type": "markdown",
   "id": "54b959fe",
   "metadata": {},
   "source": [
    "# Reverse a vector (first element becomes last) "
   ]
  },
  {
   "cell_type": "code",
   "execution_count": 71,
   "id": "dfccaf8a",
   "metadata": {},
   "outputs": [],
   "source": [
    "import numpy as np\n",
    "data=np.arange(10,68)\n",
    "data= data[::-1]"
   ]
  },
  {
   "cell_type": "code",
   "execution_count": 72,
   "id": "65462bbc",
   "metadata": {},
   "outputs": [
    {
     "data": {
      "text/plain": [
       "array([67, 66, 65, 64, 63, 62, 61, 60, 59, 58, 57, 56, 55, 54, 53, 52, 51,\n",
       "       50, 49, 48, 47, 46, 45, 44, 43, 42, 41, 40, 39, 38, 37, 36, 35, 34,\n",
       "       33, 32, 31, 30, 29, 28, 27, 26, 25, 24, 23, 22, 21, 20, 19, 18, 17,\n",
       "       16, 15, 14, 13, 12, 11, 10])"
      ]
     },
     "execution_count": 72,
     "metadata": {},
     "output_type": "execute_result"
    }
   ],
   "source": [
    "data"
   ]
  },
  {
   "cell_type": "markdown",
   "id": "1a96b300",
   "metadata": {},
   "source": [
    "# Create a 3x3 matrix with values ranging from 0 to 10"
   ]
  },
  {
   "cell_type": "code",
   "execution_count": 73,
   "id": "9e8e4141",
   "metadata": {},
   "outputs": [],
   "source": [
    "import numpy as np\n",
    "data =np.random.randint(0,10,(3,3))"
   ]
  },
  {
   "cell_type": "code",
   "execution_count": 74,
   "id": "089447e2",
   "metadata": {},
   "outputs": [
    {
     "data": {
      "text/plain": [
       "array([[6, 8, 5],\n",
       "       [4, 5, 9],\n",
       "       [2, 1, 5]])"
      ]
     },
     "execution_count": 74,
     "metadata": {},
     "output_type": "execute_result"
    }
   ],
   "source": [
    "data"
   ]
  },
  {
   "cell_type": "markdown",
   "id": "81670b0e",
   "metadata": {},
   "source": [
    "# Find indices of non-zero elements from [0,2,1,0,4,0] "
   ]
  },
  {
   "cell_type": "code",
   "execution_count": 336,
   "id": "27e1bd2b",
   "metadata": {},
   "outputs": [],
   "source": [
    "import numpy as np\n",
    "data =np.array([0,2,1,0,4,0])"
   ]
  },
  {
   "cell_type": "code",
   "execution_count": 79,
   "id": "168b42f6",
   "metadata": {},
   "outputs": [
    {
     "data": {
      "text/plain": [
       "(array([1, 2, 4], dtype=int64),)"
      ]
     },
     "execution_count": 79,
     "metadata": {},
     "output_type": "execute_result"
    }
   ],
   "source": [
    "data.nonzero()"
   ]
  },
  {
   "cell_type": "code",
   "execution_count": 77,
   "id": "1708e09e",
   "metadata": {},
   "outputs": [
    {
     "data": {
      "text/plain": [
       "3"
      ]
     },
     "execution_count": 77,
     "metadata": {},
     "output_type": "execute_result"
    }
   ],
   "source": [
    "np.count_nonzero(data)"
   ]
  },
  {
   "cell_type": "code",
   "execution_count": 337,
   "id": "bd466437",
   "metadata": {},
   "outputs": [
    {
     "data": {
      "text/plain": [
       "(array([1, 2, 4], dtype=int64),)"
      ]
     },
     "execution_count": 337,
     "metadata": {},
     "output_type": "execute_result"
    }
   ],
   "source": [
    "np.nonzero(data)            ### both are same only"
   ]
  },
  {
   "cell_type": "markdown",
   "id": "ce3161d7",
   "metadata": {},
   "source": [
    "# Create a 3x3 identity matrix "
   ]
  },
  {
   "cell_type": "code",
   "execution_count": 80,
   "id": "4a921685",
   "metadata": {},
   "outputs": [],
   "source": [
    "import numpy as np\n",
    "data =np.eye(3)"
   ]
  },
  {
   "cell_type": "code",
   "execution_count": 81,
   "id": "549e0188",
   "metadata": {},
   "outputs": [
    {
     "data": {
      "text/plain": [
       "array([[1., 0., 0.],\n",
       "       [0., 1., 0.],\n",
       "       [0., 0., 1.]])"
      ]
     },
     "execution_count": 81,
     "metadata": {},
     "output_type": "execute_result"
    }
   ],
   "source": [
    "data"
   ]
  },
  {
   "cell_type": "markdown",
   "id": "5815b7f9",
   "metadata": {},
   "source": [
    "# Create a 3x3x3 array with random values\n"
   ]
  },
  {
   "cell_type": "code",
   "execution_count": 85,
   "id": "fa82ec1b",
   "metadata": {},
   "outputs": [],
   "source": [
    "import numpy as np\n",
    "data =np.random.randint(1,10,(3,3))"
   ]
  },
  {
   "cell_type": "code",
   "execution_count": 86,
   "id": "c704f615",
   "metadata": {},
   "outputs": [
    {
     "data": {
      "text/plain": [
       "array([[1, 8, 1],\n",
       "       [6, 7, 7],\n",
       "       [8, 8, 1]])"
      ]
     },
     "execution_count": 86,
     "metadata": {},
     "output_type": "execute_result"
    }
   ],
   "source": [
    "data"
   ]
  },
  {
   "cell_type": "markdown",
   "id": "b5cf1137",
   "metadata": {},
   "source": [
    "#  Create a 10x10 array with random values and find the minimum and maximum values "
   ]
  },
  {
   "cell_type": "code",
   "execution_count": 90,
   "id": "5ac8b07f",
   "metadata": {},
   "outputs": [],
   "source": [
    "import numpy as np\n",
    "data =np.random.randint(50,200,(10,10))"
   ]
  },
  {
   "cell_type": "code",
   "execution_count": 91,
   "id": "b4618426",
   "metadata": {},
   "outputs": [
    {
     "data": {
      "text/plain": [
       "array([[155,  76,  96, 103, 124,  74, 177,  57, 161,  54],\n",
       "       [ 69,  54, 126,  83, 122, 110,  81, 187, 109, 111],\n",
       "       [146, 190, 127,  71, 167, 193, 115, 167,  86, 151],\n",
       "       [143,  68,  68, 168, 102, 181, 125,  59, 135, 102],\n",
       "       [109, 119, 136, 174, 194, 133, 125,  50, 186, 182],\n",
       "       [188,  53, 130,  53, 121, 139, 174,  61, 135, 182],\n",
       "       [177, 170, 161, 139,  50, 139, 160,  70,  79,  71],\n",
       "       [120, 155, 191, 145,  92, 168, 190, 139,  76, 192],\n",
       "       [126, 175,  94, 192, 188, 122, 187, 173, 157, 131],\n",
       "       [ 98, 111, 168, 176,  56,  95, 128, 146, 185, 184]])"
      ]
     },
     "execution_count": 91,
     "metadata": {},
     "output_type": "execute_result"
    }
   ],
   "source": [
    "data"
   ]
  },
  {
   "cell_type": "code",
   "execution_count": 92,
   "id": "c736e78c",
   "metadata": {},
   "outputs": [
    {
     "data": {
      "text/plain": [
       "50"
      ]
     },
     "execution_count": 92,
     "metadata": {},
     "output_type": "execute_result"
    }
   ],
   "source": [
    "data.min()      ## min value"
   ]
  },
  {
   "cell_type": "code",
   "execution_count": 93,
   "id": "c14e6af5",
   "metadata": {},
   "outputs": [
    {
     "data": {
      "text/plain": [
       "194"
      ]
     },
     "execution_count": 93,
     "metadata": {},
     "output_type": "execute_result"
    }
   ],
   "source": [
    "data.max()       ## max value"
   ]
  },
  {
   "cell_type": "code",
   "execution_count": 94,
   "id": "b5abc8a5",
   "metadata": {},
   "outputs": [
    {
     "data": {
      "text/plain": [
       "47"
      ]
     },
     "execution_count": 94,
     "metadata": {},
     "output_type": "execute_result"
    }
   ],
   "source": [
    "data.argmin()    ## min value index number (first occurance)"
   ]
  },
  {
   "cell_type": "code",
   "execution_count": 95,
   "id": "6ef1c215",
   "metadata": {},
   "outputs": [
    {
     "data": {
      "text/plain": [
       "44"
      ]
     },
     "execution_count": 95,
     "metadata": {},
     "output_type": "execute_result"
    }
   ],
   "source": [
    "data.argmax()    ## max value index number"
   ]
  },
  {
   "cell_type": "markdown",
   "id": "1e76375e",
   "metadata": {},
   "source": [
    "# Create a random vector of size 30 and find the mean value "
   ]
  },
  {
   "cell_type": "code",
   "execution_count": 356,
   "id": "d363d801",
   "metadata": {},
   "outputs": [],
   "source": [
    "import numpy as np\n",
    "data=np.arange(1,31)"
   ]
  },
  {
   "cell_type": "code",
   "execution_count": 357,
   "id": "2a9db34c",
   "metadata": {},
   "outputs": [
    {
     "data": {
      "text/plain": [
       "array([ 1,  2,  3,  4,  5,  6,  7,  8,  9, 10, 11, 12, 13, 14, 15, 16, 17,\n",
       "       18, 19, 20, 21, 22, 23, 24, 25, 26, 27, 28, 29, 30])"
      ]
     },
     "execution_count": 357,
     "metadata": {},
     "output_type": "execute_result"
    }
   ],
   "source": [
    "data"
   ]
  },
  {
   "cell_type": "code",
   "execution_count": 358,
   "id": "e28d3130",
   "metadata": {},
   "outputs": [
    {
     "data": {
      "text/plain": [
       "15.5"
      ]
     },
     "execution_count": 358,
     "metadata": {},
     "output_type": "execute_result"
    }
   ],
   "source": [
    "data.mean()"
   ]
  },
  {
   "cell_type": "code",
   "execution_count": 359,
   "id": "a54b9716",
   "metadata": {},
   "outputs": [
    {
     "data": {
      "text/plain": [
       "30"
      ]
     },
     "execution_count": 359,
     "metadata": {},
     "output_type": "execute_result"
    }
   ],
   "source": [
    "len(data)"
   ]
  },
  {
   "cell_type": "markdown",
   "id": "d2a74e2a",
   "metadata": {},
   "source": [
    "# Create a 2d array with 1 on the border and 0 inside \n"
   ]
  },
  {
   "cell_type": "code",
   "execution_count": 380,
   "id": "50f1db82",
   "metadata": {},
   "outputs": [],
   "source": [
    "import numpy as np\n",
    "x = np.ones((5,5))"
   ]
  },
  {
   "cell_type": "code",
   "execution_count": 253,
   "id": "dc391cf6",
   "metadata": {},
   "outputs": [
    {
     "data": {
      "text/plain": [
       "array([[1., 1., 1., 1., 1.],\n",
       "       [1., 1., 1., 1., 1.],\n",
       "       [1., 1., 1., 1., 1.],\n",
       "       [1., 1., 1., 1., 1.],\n",
       "       [1., 1., 1., 1., 1.]])"
      ]
     },
     "execution_count": 253,
     "metadata": {},
     "output_type": "execute_result"
    }
   ],
   "source": [
    "x"
   ]
  },
  {
   "cell_type": "code",
   "execution_count": 254,
   "id": "c938fa70",
   "metadata": {},
   "outputs": [],
   "source": [
    "x[1:-1,1] =0"
   ]
  },
  {
   "cell_type": "code",
   "execution_count": 255,
   "id": "60ec0607",
   "metadata": {},
   "outputs": [
    {
     "data": {
      "text/plain": [
       "array([[1., 1., 1., 1., 1.],\n",
       "       [1., 0., 1., 1., 1.],\n",
       "       [1., 0., 1., 1., 1.],\n",
       "       [1., 0., 1., 1., 1.],\n",
       "       [1., 1., 1., 1., 1.]])"
      ]
     },
     "execution_count": 255,
     "metadata": {},
     "output_type": "execute_result"
    }
   ],
   "source": [
    "x"
   ]
  },
  {
   "cell_type": "code",
   "execution_count": 256,
   "id": "8c8aa929",
   "metadata": {},
   "outputs": [],
   "source": [
    "x[1, 1:-1] =0"
   ]
  },
  {
   "cell_type": "code",
   "execution_count": 257,
   "id": "f4c63176",
   "metadata": {},
   "outputs": [
    {
     "data": {
      "text/plain": [
       "array([[1., 1., 1., 1., 1.],\n",
       "       [1., 0., 0., 0., 1.],\n",
       "       [1., 0., 1., 1., 1.],\n",
       "       [1., 0., 1., 1., 1.],\n",
       "       [1., 1., 1., 1., 1.]])"
      ]
     },
     "execution_count": 257,
     "metadata": {},
     "output_type": "execute_result"
    }
   ],
   "source": [
    "x"
   ]
  },
  {
   "cell_type": "code",
   "execution_count": 258,
   "id": "707801f1",
   "metadata": {},
   "outputs": [],
   "source": [
    "x[1:-1, 1:-1] = 0"
   ]
  },
  {
   "cell_type": "code",
   "execution_count": 259,
   "id": "c87d4e7f",
   "metadata": {},
   "outputs": [
    {
     "data": {
      "text/plain": [
       "array([[1., 1., 1., 1., 1.],\n",
       "       [1., 0., 0., 0., 1.],\n",
       "       [1., 0., 0., 0., 1.],\n",
       "       [1., 0., 0., 0., 1.],\n",
       "       [1., 1., 1., 1., 1.]])"
      ]
     },
     "execution_count": 259,
     "metadata": {},
     "output_type": "execute_result"
    }
   ],
   "source": [
    "x"
   ]
  },
  {
   "cell_type": "code",
   "execution_count": 381,
   "id": "4b10cfbb",
   "metadata": {},
   "outputs": [],
   "source": [
    "x[1:4, 1:4] = 0"
   ]
  },
  {
   "cell_type": "code",
   "execution_count": 382,
   "id": "014e5a53",
   "metadata": {},
   "outputs": [
    {
     "data": {
      "text/plain": [
       "array([[1., 1., 1., 1., 1.],\n",
       "       [1., 0., 0., 0., 1.],\n",
       "       [1., 0., 0., 0., 1.],\n",
       "       [1., 0., 0., 0., 1.],\n",
       "       [1., 1., 1., 1., 1.]])"
      ]
     },
     "execution_count": 382,
     "metadata": {},
     "output_type": "execute_result"
    }
   ],
   "source": [
    "x"
   ]
  },
  {
   "cell_type": "markdown",
   "id": "49615f62",
   "metadata": {},
   "source": [
    "# How to add a border (filled with 0's) around an existing array? "
   ]
  },
  {
   "cell_type": "code",
   "execution_count": 32,
   "id": "01a8a84e",
   "metadata": {},
   "outputs": [],
   "source": [
    "import numpy as np\n",
    "x = np.ones((5,5))"
   ]
  },
  {
   "cell_type": "code",
   "execution_count": 33,
   "id": "80c3e77a",
   "metadata": {},
   "outputs": [
    {
     "data": {
      "text/plain": [
       "array([[1., 1., 1., 1., 1.],\n",
       "       [1., 1., 1., 1., 1.],\n",
       "       [1., 1., 1., 1., 1.],\n",
       "       [1., 1., 1., 1., 1.],\n",
       "       [1., 1., 1., 1., 1.]])"
      ]
     },
     "execution_count": 33,
     "metadata": {},
     "output_type": "execute_result"
    }
   ],
   "source": [
    "x"
   ]
  },
  {
   "cell_type": "code",
   "execution_count": 39,
   "id": "7bdf7534",
   "metadata": {},
   "outputs": [],
   "source": [
    "x[0:5, [0,4]] =0"
   ]
  },
  {
   "cell_type": "code",
   "execution_count": 43,
   "id": "c63c65b9",
   "metadata": {},
   "outputs": [
    {
     "data": {
      "text/plain": [
       "array([[0., 0., 0., 0., 0.],\n",
       "       [0., 1., 1., 1., 0.],\n",
       "       [0., 1., 1., 1., 0.],\n",
       "       [0., 1., 1., 1., 0.],\n",
       "       [0., 0., 0., 0., 0.]])"
      ]
     },
     "execution_count": 43,
     "metadata": {},
     "output_type": "execute_result"
    }
   ],
   "source": [
    "x"
   ]
  },
  {
   "cell_type": "code",
   "execution_count": 44,
   "id": "b7d401d0",
   "metadata": {},
   "outputs": [],
   "source": [
    "x[[0,4],0:5]= 0"
   ]
  },
  {
   "cell_type": "code",
   "execution_count": 45,
   "id": "047eece6",
   "metadata": {},
   "outputs": [
    {
     "data": {
      "text/plain": [
       "array([[0., 0., 0., 0., 0.],\n",
       "       [0., 1., 1., 1., 0.],\n",
       "       [0., 1., 1., 1., 0.],\n",
       "       [0., 1., 1., 1., 0.],\n",
       "       [0., 0., 0., 0., 0.]])"
      ]
     },
     "execution_count": 45,
     "metadata": {},
     "output_type": "execute_result"
    }
   ],
   "source": [
    "x"
   ]
  },
  {
   "cell_type": "markdown",
   "id": "310cb0d0",
   "metadata": {},
   "source": [
    "# What is the result of the following expression? "
   ]
  },
  {
   "cell_type": "raw",
   "id": "a51069e0",
   "metadata": {},
   "source": [
    "0 * np.nan\n",
    "np.nan == np.nan\n",
    "np.inf > np.nan\n",
    "np.nan - np.nan\n",
    "np.nan in set([np.nan])\n",
    "0.3 == 3 * 0.1"
   ]
  },
  {
   "cell_type": "code",
   "execution_count": 119,
   "id": "b1bd9f3b",
   "metadata": {},
   "outputs": [],
   "source": [
    "import numpy as np"
   ]
  },
  {
   "cell_type": "code",
   "execution_count": 120,
   "id": "2c7ace2b",
   "metadata": {},
   "outputs": [
    {
     "data": {
      "text/plain": [
       "nan"
      ]
     },
     "execution_count": 120,
     "metadata": {},
     "output_type": "execute_result"
    }
   ],
   "source": [
    "0 * np.nan"
   ]
  },
  {
   "cell_type": "code",
   "execution_count": 121,
   "id": "fd615c59",
   "metadata": {},
   "outputs": [
    {
     "data": {
      "text/plain": [
       "False"
      ]
     },
     "execution_count": 121,
     "metadata": {},
     "output_type": "execute_result"
    }
   ],
   "source": [
    "np.nan == np.nan"
   ]
  },
  {
   "cell_type": "code",
   "execution_count": 122,
   "id": "971e0de5",
   "metadata": {},
   "outputs": [
    {
     "data": {
      "text/plain": [
       "False"
      ]
     },
     "execution_count": 122,
     "metadata": {},
     "output_type": "execute_result"
    }
   ],
   "source": [
    "np.inf > np.nan"
   ]
  },
  {
   "cell_type": "code",
   "execution_count": 124,
   "id": "5f501bb4",
   "metadata": {},
   "outputs": [
    {
     "data": {
      "text/plain": [
       "False"
      ]
     },
     "execution_count": 124,
     "metadata": {},
     "output_type": "execute_result"
    }
   ],
   "source": [
    "np.inf < np.nan"
   ]
  },
  {
   "cell_type": "code",
   "execution_count": 125,
   "id": "009b7db8",
   "metadata": {},
   "outputs": [
    {
     "data": {
      "text/plain": [
       "nan"
      ]
     },
     "execution_count": 125,
     "metadata": {},
     "output_type": "execute_result"
    }
   ],
   "source": [
    "np.nan - np.nan"
   ]
  },
  {
   "cell_type": "code",
   "execution_count": 126,
   "id": "8d700ee0",
   "metadata": {},
   "outputs": [
    {
     "data": {
      "text/plain": [
       "True"
      ]
     },
     "execution_count": 126,
     "metadata": {},
     "output_type": "execute_result"
    }
   ],
   "source": [
    "np.nan in set([np.nan])"
   ]
  },
  {
   "cell_type": "code",
   "execution_count": 127,
   "id": "4f8a3359",
   "metadata": {},
   "outputs": [
    {
     "data": {
      "text/plain": [
       "False"
      ]
     },
     "execution_count": 127,
     "metadata": {},
     "output_type": "execute_result"
    }
   ],
   "source": [
    "0.3 == 3 * 0.1         #### because RHS oparation is still not completed"
   ]
  },
  {
   "cell_type": "markdown",
   "id": "d9bcb98f",
   "metadata": {},
   "source": [
    "# Create a 5x5 matrix with values 1,2,3,4 just below the diagonal "
   ]
  },
  {
   "cell_type": "code",
   "execution_count": 63,
   "id": "1b02b2c3",
   "metadata": {},
   "outputs": [],
   "source": [
    "import numpy as np\n",
    "data =np.random.randint(1,5,(5,5))"
   ]
  },
  {
   "cell_type": "code",
   "execution_count": 54,
   "id": "5ddd30c0",
   "metadata": {},
   "outputs": [
    {
     "data": {
      "text/plain": [
       "array([[2, 3, 3, 2, 1],\n",
       "       [3, 1, 3, 4, 2],\n",
       "       [1, 1, 4, 1, 1],\n",
       "       [4, 3, 3, 3, 4],\n",
       "       [2, 2, 2, 1, 4]])"
      ]
     },
     "execution_count": 54,
     "metadata": {},
     "output_type": "execute_result"
    }
   ],
   "source": [
    "data"
   ]
  },
  {
   "cell_type": "code",
   "execution_count": 55,
   "id": "d5de3a44",
   "metadata": {},
   "outputs": [],
   "source": [
    "data[1:2,0:1] =1,"
   ]
  },
  {
   "cell_type": "code",
   "execution_count": 56,
   "id": "63337b4d",
   "metadata": {},
   "outputs": [],
   "source": [
    "data[2:3,1:2] =2"
   ]
  },
  {
   "cell_type": "code",
   "execution_count": 57,
   "id": "24bc846d",
   "metadata": {},
   "outputs": [],
   "source": [
    "data[3:4,2:3] =3"
   ]
  },
  {
   "cell_type": "code",
   "execution_count": 60,
   "id": "646b18bc",
   "metadata": {},
   "outputs": [],
   "source": [
    "data[4:5,3:4] =4"
   ]
  },
  {
   "cell_type": "code",
   "execution_count": 61,
   "id": "29eddcc6",
   "metadata": {},
   "outputs": [
    {
     "data": {
      "text/plain": [
       "array([[2, 3, 3, 2, 1],\n",
       "       [1, 1, 3, 4, 2],\n",
       "       [1, 2, 4, 1, 1],\n",
       "       [4, 3, 3, 3, 4],\n",
       "       [2, 2, 2, 4, 4]])"
      ]
     },
     "execution_count": 61,
     "metadata": {},
     "output_type": "execute_result"
    }
   ],
   "source": [
    "data"
   ]
  },
  {
   "cell_type": "code",
   "execution_count": 64,
   "id": "8a45d598",
   "metadata": {},
   "outputs": [
    {
     "data": {
      "text/plain": [
       "array([4, 3, 2, 4, 2])"
      ]
     },
     "execution_count": 64,
     "metadata": {},
     "output_type": "execute_result"
    }
   ],
   "source": [
    "data.diagonal()"
   ]
  },
  {
   "cell_type": "markdown",
   "id": "b1457d54",
   "metadata": {},
   "source": [
    "# Create a 8x8 matrix and fill it with a checkerboard pattern \n"
   ]
  },
  {
   "cell_type": "code",
   "execution_count": 275,
   "id": "8507b403",
   "metadata": {},
   "outputs": [],
   "source": [
    "import numpy as np\n",
    "data=np.ones((5,5))"
   ]
  },
  {
   "cell_type": "code",
   "execution_count": 276,
   "id": "b99be759",
   "metadata": {},
   "outputs": [
    {
     "data": {
      "text/plain": [
       "array([[1., 1., 1., 1., 1.],\n",
       "       [1., 1., 1., 1., 1.],\n",
       "       [1., 1., 1., 1., 1.],\n",
       "       [1., 1., 1., 1., 1.],\n",
       "       [1., 1., 1., 1., 1.]])"
      ]
     },
     "execution_count": 276,
     "metadata": {},
     "output_type": "execute_result"
    }
   ],
   "source": [
    "data"
   ]
  },
  {
   "cell_type": "code",
   "execution_count": 277,
   "id": "af6f6381",
   "metadata": {},
   "outputs": [],
   "source": [
    "data1=data.ravel()"
   ]
  },
  {
   "cell_type": "code",
   "execution_count": 278,
   "id": "b71f3777",
   "metadata": {},
   "outputs": [
    {
     "data": {
      "text/plain": [
       "array([1., 1., 1., 1., 1., 1., 1., 1., 1., 1., 1., 1., 1., 1., 1., 1., 1.,\n",
       "       1., 1., 1., 1., 1., 1., 1., 1.])"
      ]
     },
     "execution_count": 278,
     "metadata": {},
     "output_type": "execute_result"
    }
   ],
   "source": [
    "data1"
   ]
  },
  {
   "cell_type": "code",
   "execution_count": 280,
   "id": "1b426b77",
   "metadata": {},
   "outputs": [],
   "source": [
    "list1 = []\n",
    "x = len(data1)\n",
    "for i in range(0, x+1):\n",
    "    if i % 2 != 0:\n",
    "        list1.append(0)\n",
    "    else:\n",
    "        list1.append(1)\n",
    "    "
   ]
  },
  {
   "cell_type": "code",
   "execution_count": 281,
   "id": "659740cc",
   "metadata": {},
   "outputs": [
    {
     "data": {
      "text/plain": [
       "[1, 0, 1, 0, 1, 0, 1, 0, 1, 0, 1, 0, 1, 0, 1, 0, 1, 0, 1, 0, 1, 0, 1, 0, 1, 0]"
      ]
     },
     "execution_count": 281,
     "metadata": {},
     "output_type": "execute_result"
    }
   ],
   "source": [
    "list1"
   ]
  },
  {
   "cell_type": "code",
   "execution_count": 282,
   "id": "d0a5d2ff",
   "metadata": {},
   "outputs": [
    {
     "data": {
      "text/plain": [
       "26"
      ]
     },
     "execution_count": 282,
     "metadata": {},
     "output_type": "execute_result"
    }
   ],
   "source": [
    "len(list1)"
   ]
  },
  {
   "cell_type": "code",
   "execution_count": 284,
   "id": "bb341c61",
   "metadata": {},
   "outputs": [
    {
     "data": {
      "text/plain": [
       "0"
      ]
     },
     "execution_count": 284,
     "metadata": {},
     "output_type": "execute_result"
    }
   ],
   "source": [
    "list1.pop()"
   ]
  },
  {
   "cell_type": "code",
   "execution_count": 285,
   "id": "b0bead81",
   "metadata": {},
   "outputs": [
    {
     "data": {
      "text/plain": [
       "25"
      ]
     },
     "execution_count": 285,
     "metadata": {},
     "output_type": "execute_result"
    }
   ],
   "source": [
    "len(list1)"
   ]
  },
  {
   "cell_type": "code",
   "execution_count": 286,
   "id": "3c206288",
   "metadata": {},
   "outputs": [],
   "source": [
    "data2=np.array(list1)"
   ]
  },
  {
   "cell_type": "code",
   "execution_count": 287,
   "id": "9de2d410",
   "metadata": {},
   "outputs": [
    {
     "data": {
      "text/plain": [
       "array([[1, 0, 1, 0, 1],\n",
       "       [0, 1, 0, 1, 0],\n",
       "       [1, 0, 1, 0, 1],\n",
       "       [0, 1, 0, 1, 0],\n",
       "       [1, 0, 1, 0, 1]])"
      ]
     },
     "execution_count": 287,
     "metadata": {},
     "output_type": "execute_result"
    }
   ],
   "source": [
    "data2.reshape(5,5)"
   ]
  },
  {
   "cell_type": "markdown",
   "id": "45c4f2fd",
   "metadata": {},
   "source": [
    "## another method"
   ]
  },
  {
   "cell_type": "code",
   "execution_count": 388,
   "id": "404a1c08",
   "metadata": {},
   "outputs": [],
   "source": [
    "x = np.random.randint(0,10,10)\n",
    "data =[]\n",
    "for k in range(0,4):\n",
    "    for i in range(0,10):\n",
    "        if i % 2 ==0:\n",
    "            x[i] = 0\n",
    "        else:\n",
    "            x[i] = 1\n",
    "    data.append(x)\n",
    "    data.append(x[::-1])"
   ]
  },
  {
   "cell_type": "code",
   "execution_count": 389,
   "id": "7b595934",
   "metadata": {},
   "outputs": [
    {
     "data": {
      "text/plain": [
       "[array([0, 1, 0, 1, 0, 1, 0, 1, 0, 1]),\n",
       " array([1, 0, 1, 0, 1, 0, 1, 0, 1, 0]),\n",
       " array([0, 1, 0, 1, 0, 1, 0, 1, 0, 1]),\n",
       " array([1, 0, 1, 0, 1, 0, 1, 0, 1, 0]),\n",
       " array([0, 1, 0, 1, 0, 1, 0, 1, 0, 1]),\n",
       " array([1, 0, 1, 0, 1, 0, 1, 0, 1, 0]),\n",
       " array([0, 1, 0, 1, 0, 1, 0, 1, 0, 1]),\n",
       " array([1, 0, 1, 0, 1, 0, 1, 0, 1, 0])]"
      ]
     },
     "execution_count": 389,
     "metadata": {},
     "output_type": "execute_result"
    }
   ],
   "source": [
    "data"
   ]
  },
  {
   "cell_type": "code",
   "execution_count": 235,
   "id": "4ae24ee1",
   "metadata": {},
   "outputs": [
    {
     "data": {
      "text/plain": [
       "<matplotlib.image.AxesImage at 0x1dda598a8e0>"
      ]
     },
     "execution_count": 235,
     "metadata": {},
     "output_type": "execute_result"
    },
    {
     "data": {
      "image/png": "[encoded data removed]",
      "text/plain": [
       "<Figure size 640x480 with 1 Axes>"
      ]
     },
     "metadata": {},
     "output_type": "display_data"
    }
   ],
   "source": [
    "import matplotlib.pyplot as plt\n",
    "plt.imshow(data)"
   ]
  },
  {
   "cell_type": "markdown",
   "id": "6a64f0b9",
   "metadata": {},
   "source": [
    "# Create a checkerboard 8x8 matrix using the tile function \n"
   ]
  },
  {
   "cell_type": "code",
   "execution_count": null,
   "id": "47542d72",
   "metadata": {},
   "outputs": [],
   "source": []
  },
  {
   "cell_type": "markdown",
   "id": "fb375fdd",
   "metadata": {},
   "source": [
    "# Normalize a 5x5 random matrix "
   ]
  },
  {
   "cell_type": "code",
   "execution_count": 288,
   "id": "46fb5ee8",
   "metadata": {},
   "outputs": [],
   "source": [
    "import numpy as np\n",
    "data =np.random.randint(1,5,(5,5))    ### to make model training less sensitive to the scale of features\n",
    "                                      ### This allows our model to converge to better weights & more accurate"
   ]
  },
  {
   "attachments": {
    "normalise.png": {
     "image/png": "[encoded data removed]"
    }
   },
   "cell_type": "markdown",
   "id": "dc042acc",
   "metadata": {},
   "source": [
    "![normalise.png](attachment:normalise.png)"
   ]
  },
  {
   "cell_type": "code",
   "execution_count": 289,
   "id": "a2f2f907",
   "metadata": {},
   "outputs": [
    {
     "data": {
      "text/plain": [
       "array([[2, 3, 1, 2, 1],\n",
       "       [1, 1, 2, 3, 1],\n",
       "       [4, 4, 2, 3, 4],\n",
       "       [2, 3, 1, 4, 4],\n",
       "       [1, 1, 2, 4, 1]])"
      ]
     },
     "execution_count": 289,
     "metadata": {},
     "output_type": "execute_result"
    }
   ],
   "source": [
    "data              ### above is formula for Normalization, so we have to derive that"
   ]
  },
  {
   "cell_type": "code",
   "execution_count": 290,
   "id": "59f29bac",
   "metadata": {},
   "outputs": [
    {
     "data": {
      "text/plain": [
       "1"
      ]
     },
     "execution_count": 290,
     "metadata": {},
     "output_type": "execute_result"
    }
   ],
   "source": [
    "data.min()"
   ]
  },
  {
   "cell_type": "code",
   "execution_count": 291,
   "id": "1de5b6f2",
   "metadata": {},
   "outputs": [
    {
     "data": {
      "text/plain": [
       "4"
      ]
     },
     "execution_count": 291,
     "metadata": {},
     "output_type": "execute_result"
    }
   ],
   "source": [
    "data.max()"
   ]
  },
  {
   "cell_type": "code",
   "execution_count": 296,
   "id": "d881367c",
   "metadata": {},
   "outputs": [],
   "source": [
    "z = ((data-(data.min())) / ((data.max()) - (data.min())))"
   ]
  },
  {
   "cell_type": "code",
   "execution_count": 297,
   "id": "7d3e9e1d",
   "metadata": {},
   "outputs": [
    {
     "data": {
      "text/plain": [
       "array([[0.33333333, 0.66666667, 0.        , 0.33333333, 0.        ],\n",
       "       [0.        , 0.        , 0.33333333, 0.66666667, 0.        ],\n",
       "       [1.        , 1.        , 0.33333333, 0.66666667, 1.        ],\n",
       "       [0.33333333, 0.66666667, 0.        , 1.        , 1.        ],\n",
       "       [0.        , 0.        , 0.33333333, 1.        , 0.        ]])"
      ]
     },
     "execution_count": 297,
     "metadata": {},
     "output_type": "execute_result"
    }
   ],
   "source": [
    "z"
   ]
  },
  {
   "cell_type": "markdown",
   "id": "3473ca92",
   "metadata": {},
   "source": [
    "# Create a custom dtype that describes a color as four unsigned bytes (RGBA) "
   ]
  },
  {
   "cell_type": "code",
   "execution_count": null,
   "id": "6ea4b5f6",
   "metadata": {},
   "outputs": [],
   "source": []
  },
  {
   "cell_type": "markdown",
   "id": "0bf91a85",
   "metadata": {},
   "source": [
    "# Multiply a 5x3 matrix by a 3x2 matrix (real matrix product) "
   ]
  },
  {
   "cell_type": "code",
   "execution_count": 298,
   "id": "a1d402f9",
   "metadata": {},
   "outputs": [],
   "source": [
    "import numpy as np\n",
    "x =np.random.randint(1,5,(5,3))\n",
    "y =np.random.randint(1,5,(3,2))"
   ]
  },
  {
   "cell_type": "code",
   "execution_count": 299,
   "id": "4b31cad7",
   "metadata": {},
   "outputs": [
    {
     "ename": "ValueError",
     "evalue": "operands could not be broadcast together with shapes (5,3) (3,2) ",
     "output_type": "error",
     "traceback": [
      "\u001b[1;31m---------------------------------------------------------------------------\u001b[0m",
      "\u001b[1;31mValueError\u001b[0m                                Traceback (most recent call last)",
      "\u001b[1;32m~\\AppData\\Local\\Temp\\ipykernel_1564\\2636411777.py\u001b[0m in \u001b[0;36m<module>\u001b[1;34m\u001b[0m\n\u001b[1;32m----> 1\u001b[1;33m \u001b[0mnp\u001b[0m\u001b[1;33m.\u001b[0m\u001b[0mmultiply\u001b[0m\u001b[1;33m(\u001b[0m\u001b[0mx\u001b[0m\u001b[1;33m,\u001b[0m\u001b[0my\u001b[0m\u001b[1;33m)\u001b[0m\u001b[1;33m\u001b[0m\u001b[1;33m\u001b[0m\u001b[0m\n\u001b[0m",
      "\u001b[1;31mValueError\u001b[0m: operands could not be broadcast together with shapes (5,3) (3,2) "
     ]
    }
   ],
   "source": [
    "np.multiply(x,y)"
   ]
  },
  {
   "cell_type": "code",
   "execution_count": 164,
   "id": "db55cc14",
   "metadata": {},
   "outputs": [
    {
     "data": {
      "text/plain": [
       "array([[16, 27],\n",
       "       [18, 24],\n",
       "       [12, 15],\n",
       "       [15, 21],\n",
       "       [21, 30]])"
      ]
     },
     "execution_count": 164,
     "metadata": {},
     "output_type": "execute_result"
    }
   ],
   "source": [
    "np.dot(x,y)         #### here we have to use dot product"
   ]
  },
  {
   "cell_type": "markdown",
   "id": "e5814c27",
   "metadata": {},
   "source": [
    "# Given a 1D array, negate all elements which are between 3 and 8, in place. "
   ]
  },
  {
   "cell_type": "code",
   "execution_count": 333,
   "id": "c672ff75",
   "metadata": {},
   "outputs": [],
   "source": [
    "import numpy as np\n",
    "data=np.arange(1,15)"
   ]
  },
  {
   "cell_type": "code",
   "execution_count": 334,
   "id": "6c1ff03d",
   "metadata": {},
   "outputs": [
    {
     "data": {
      "text/plain": [
       "array([ 1,  2,  3,  4,  5,  6,  7,  8,  9, 10, 11, 12, 13, 14])"
      ]
     },
     "execution_count": 334,
     "metadata": {},
     "output_type": "execute_result"
    }
   ],
   "source": [
    "data"
   ]
  },
  {
   "cell_type": "code",
   "execution_count": null,
   "id": "b6aa243d",
   "metadata": {},
   "outputs": [],
   "source": [
    "### now we have to change negetive values of index b/w  3 to 8"
   ]
  },
  {
   "cell_type": "code",
   "execution_count": 312,
   "id": "eb91e097",
   "metadata": {},
   "outputs": [
    {
     "data": {
      "text/plain": [
       "array([ -1,  -2,  -3,  -4,  -5,  -6,  -7,  -8,  -9, -10, -11, -12, -13,\n",
       "       -14])"
      ]
     },
     "execution_count": 312,
     "metadata": {},
     "output_type": "execute_result"
    }
   ],
   "source": [
    "np.negative(data)        ### wrong answer"
   ]
  },
  {
   "cell_type": "code",
   "execution_count": null,
   "id": "7c35f550",
   "metadata": {},
   "outputs": [],
   "source": []
  },
  {
   "cell_type": "markdown",
   "id": "3e8df4ab",
   "metadata": {},
   "source": [
    "# What is the output of the following script? "
   ]
  },
  {
   "cell_type": "code",
   "execution_count": 1,
   "id": "1411eb5d",
   "metadata": {},
   "outputs": [
    {
     "name": "stdout",
     "output_type": "stream",
     "text": [
      "9\n"
     ]
    }
   ],
   "source": [
    "print(sum(range(5),-1))"
   ]
  },
  {
   "cell_type": "code",
   "execution_count": 2,
   "id": "c1206cce",
   "metadata": {},
   "outputs": [
    {
     "data": {
      "text/plain": [
       "range(0, 5)"
      ]
     },
     "execution_count": 2,
     "metadata": {},
     "output_type": "execute_result"
    }
   ],
   "source": [
    "range(5)"
   ]
  },
  {
   "cell_type": "code",
   "execution_count": 431,
   "id": "5d8fbc63",
   "metadata": {},
   "outputs": [
    {
     "name": "stdout",
     "output_type": "stream",
     "text": [
      "10\n"
     ]
    }
   ],
   "source": [
    "from numpy import *\n",
    "print(sum(range(5),-1))"
   ]
  },
  {
   "cell_type": "code",
   "execution_count": 432,
   "id": "6f600115",
   "metadata": {},
   "outputs": [
    {
     "data": {
      "text/plain": [
       "range(0, 5)"
      ]
     },
     "execution_count": 432,
     "metadata": {},
     "output_type": "execute_result"
    }
   ],
   "source": [
    "range(5)"
   ]
  },
  {
   "cell_type": "code",
   "execution_count": 427,
   "id": "13618d9a",
   "metadata": {},
   "outputs": [],
   "source": [
    "import numpy as np"
   ]
  },
  {
   "cell_type": "code",
   "execution_count": 428,
   "id": "468bc2f4",
   "metadata": {},
   "outputs": [
    {
     "name": "stdout",
     "output_type": "stream",
     "text": [
      "10\n"
     ]
    }
   ],
   "source": [
    "print(sum(range(5),-1))"
   ]
  },
  {
   "cell_type": "code",
   "execution_count": 429,
   "id": "b96c1a07",
   "metadata": {},
   "outputs": [],
   "source": [
    "from numpy import *"
   ]
  },
  {
   "cell_type": "code",
   "execution_count": 430,
   "id": "d3cbc234",
   "metadata": {},
   "outputs": [
    {
     "name": "stdout",
     "output_type": "stream",
     "text": [
      "10\n"
     ]
    }
   ],
   "source": [
    "print(sum(range(5),-1))"
   ]
  },
  {
   "cell_type": "markdown",
   "id": "97025303",
   "metadata": {},
   "source": [
    "# Consider an integer vector Z, which of these expressions are legal? "
   ]
  },
  {
   "cell_type": "raw",
   "id": "374eb7eb",
   "metadata": {},
   "source": [
    "Z**Z               ### here only (Z**Z) is legal\n",
    "2 << Z >> 2\n",
    "Z <- Z\n",
    "1j*Z\n",
    "Z/1/1\n",
    "Z<Z>Z"
   ]
  },
  {
   "cell_type": "code",
   "execution_count": 344,
   "id": "bee75137",
   "metadata": {},
   "outputs": [],
   "source": [
    "import numpy as np\n",
    "z=np.arange(1,6)"
   ]
  },
  {
   "cell_type": "code",
   "execution_count": 342,
   "id": "a411e289",
   "metadata": {},
   "outputs": [
    {
     "data": {
      "text/plain": [
       "array([   1,    4,   27,  256, 3125], dtype=int32)"
      ]
     },
     "execution_count": 342,
     "metadata": {},
     "output_type": "execute_result"
    }
   ],
   "source": [
    "z**z"
   ]
  },
  {
   "cell_type": "code",
   "execution_count": 345,
   "id": "4f185fc0",
   "metadata": {},
   "outputs": [
    {
     "ename": "NameError",
     "evalue": "name 'Z' is not defined",
     "output_type": "error",
     "traceback": [
      "\u001b[1;31m---------------------------------------------------------------------------\u001b[0m",
      "\u001b[1;31mNameError\u001b[0m                                 Traceback (most recent call last)",
      "\u001b[1;32m~\\AppData\\Local\\Temp\\ipykernel_1564\\3932684529.py\u001b[0m in \u001b[0;36m<module>\u001b[1;34m\u001b[0m\n\u001b[1;32m----> 1\u001b[1;33m \u001b[1;36m2\u001b[0m \u001b[1;33m<<\u001b[0m \u001b[0mZ\u001b[0m \u001b[1;33m>>\u001b[0m \u001b[1;36m2\u001b[0m\u001b[1;33m\u001b[0m\u001b[1;33m\u001b[0m\u001b[0m\n\u001b[0m",
      "\u001b[1;31mNameError\u001b[0m: name 'Z' is not defined"
     ]
    }
   ],
   "source": [
    "2 << Z >> 2"
   ]
  },
  {
   "cell_type": "code",
   "execution_count": 346,
   "id": "84c48d4c",
   "metadata": {},
   "outputs": [
    {
     "ename": "NameError",
     "evalue": "name 'Z' is not defined",
     "output_type": "error",
     "traceback": [
      "\u001b[1;31m---------------------------------------------------------------------------\u001b[0m",
      "\u001b[1;31mNameError\u001b[0m                                 Traceback (most recent call last)",
      "\u001b[1;32m~\\AppData\\Local\\Temp\\ipykernel_1564\\4199420721.py\u001b[0m in \u001b[0;36m<module>\u001b[1;34m\u001b[0m\n\u001b[1;32m----> 1\u001b[1;33m \u001b[0mZ\u001b[0m \u001b[1;33m<\u001b[0m\u001b[1;33m-\u001b[0m \u001b[0mZ\u001b[0m\u001b[1;33m\u001b[0m\u001b[1;33m\u001b[0m\u001b[0m\n\u001b[0m",
      "\u001b[1;31mNameError\u001b[0m: name 'Z' is not defined"
     ]
    }
   ],
   "source": [
    "Z <- Z"
   ]
  },
  {
   "cell_type": "code",
   "execution_count": 347,
   "id": "b56ffef2",
   "metadata": {},
   "outputs": [
    {
     "ename": "NameError",
     "evalue": "name 'Z' is not defined",
     "output_type": "error",
     "traceback": [
      "\u001b[1;31m---------------------------------------------------------------------------\u001b[0m",
      "\u001b[1;31mNameError\u001b[0m                                 Traceback (most recent call last)",
      "\u001b[1;32m~\\AppData\\Local\\Temp\\ipykernel_1564\\1904827818.py\u001b[0m in \u001b[0;36m<module>\u001b[1;34m\u001b[0m\n\u001b[1;32m----> 1\u001b[1;33m \u001b[1;36m1j\u001b[0m\u001b[1;33m*\u001b[0m\u001b[0mZ\u001b[0m\u001b[1;33m\u001b[0m\u001b[1;33m\u001b[0m\u001b[0m\n\u001b[0m",
      "\u001b[1;31mNameError\u001b[0m: name 'Z' is not defined"
     ]
    }
   ],
   "source": [
    "1j*Z"
   ]
  },
  {
   "cell_type": "code",
   "execution_count": 348,
   "id": "859348a0",
   "metadata": {},
   "outputs": [
    {
     "ename": "NameError",
     "evalue": "name 'Z' is not defined",
     "output_type": "error",
     "traceback": [
      "\u001b[1;31m---------------------------------------------------------------------------\u001b[0m",
      "\u001b[1;31mNameError\u001b[0m                                 Traceback (most recent call last)",
      "\u001b[1;32m~\\AppData\\Local\\Temp\\ipykernel_1564\\3490388412.py\u001b[0m in \u001b[0;36m<module>\u001b[1;34m\u001b[0m\n\u001b[1;32m----> 1\u001b[1;33m \u001b[0mZ\u001b[0m\u001b[1;33m/\u001b[0m\u001b[1;36m1\u001b[0m\u001b[1;33m/\u001b[0m\u001b[1;36m1\u001b[0m\u001b[1;33m\u001b[0m\u001b[1;33m\u001b[0m\u001b[0m\n\u001b[0m",
      "\u001b[1;31mNameError\u001b[0m: name 'Z' is not defined"
     ]
    }
   ],
   "source": [
    "Z/1/1"
   ]
  },
  {
   "cell_type": "code",
   "execution_count": 349,
   "id": "557b34b7",
   "metadata": {},
   "outputs": [
    {
     "ename": "NameError",
     "evalue": "name 'Z' is not defined",
     "output_type": "error",
     "traceback": [
      "\u001b[1;31m---------------------------------------------------------------------------\u001b[0m",
      "\u001b[1;31mNameError\u001b[0m                                 Traceback (most recent call last)",
      "\u001b[1;32m~\\AppData\\Local\\Temp\\ipykernel_1564\\225404581.py\u001b[0m in \u001b[0;36m<module>\u001b[1;34m\u001b[0m\n\u001b[1;32m----> 1\u001b[1;33m \u001b[0mZ\u001b[0m\u001b[1;33m<\u001b[0m\u001b[0mZ\u001b[0m\u001b[1;33m>\u001b[0m\u001b[0mZ\u001b[0m\u001b[1;33m\u001b[0m\u001b[1;33m\u001b[0m\u001b[0m\n\u001b[0m",
      "\u001b[1;31mNameError\u001b[0m: name 'Z' is not defined"
     ]
    }
   ],
   "source": [
    "Z<Z>Z"
   ]
  },
  {
   "cell_type": "markdown",
   "id": "4b4634f5",
   "metadata": {},
   "source": [
    "# What are the result of the following expressions? \n"
   ]
  },
  {
   "cell_type": "raw",
   "id": "ca85772d",
   "metadata": {},
   "source": [
    "np.array(0) / np.array(0)\n",
    "np.array(0) // np.array(0)\n",
    "np.array([np.nan]).astype(int).astype(float)"
   ]
  },
  {
   "cell_type": "code",
   "execution_count": 360,
   "id": "1a96744f",
   "metadata": {},
   "outputs": [],
   "source": [
    "import numpy as np\n",
    "z=np.arange(1,6)"
   ]
  },
  {
   "cell_type": "code",
   "execution_count": 361,
   "id": "fb7f5b1c",
   "metadata": {},
   "outputs": [
    {
     "data": {
      "text/plain": [
       "array([1, 2, 3, 4, 5])"
      ]
     },
     "execution_count": 361,
     "metadata": {},
     "output_type": "execute_result"
    }
   ],
   "source": [
    "z"
   ]
  },
  {
   "cell_type": "code",
   "execution_count": 362,
   "id": "1342e00a",
   "metadata": {},
   "outputs": [
    {
     "name": "stderr",
     "output_type": "stream",
     "text": [
      "C:\\Users\\PRASADH\\AppData\\Local\\Temp\\ipykernel_1564\\873513115.py:1: RuntimeWarning: invalid value encountered in true_divide\n",
      "  np.array(0) / np.array(0)\n"
     ]
    },
    {
     "data": {
      "text/plain": [
       "nan"
      ]
     },
     "execution_count": 362,
     "metadata": {},
     "output_type": "execute_result"
    }
   ],
   "source": [
    "np.array(0) / np.array(0)"
   ]
  },
  {
   "cell_type": "code",
   "execution_count": 363,
   "id": "ba2b02d3",
   "metadata": {},
   "outputs": [
    {
     "name": "stderr",
     "output_type": "stream",
     "text": [
      "C:\\Users\\PRASADH\\AppData\\Local\\Temp\\ipykernel_1564\\2018018105.py:1: RuntimeWarning: divide by zero encountered in floor_divide\n",
      "  np.array(0) // np.array(0)\n"
     ]
    },
    {
     "data": {
      "text/plain": [
       "0"
      ]
     },
     "execution_count": 363,
     "metadata": {},
     "output_type": "execute_result"
    }
   ],
   "source": [
    "np.array(0) // np.array(0)"
   ]
  },
  {
   "cell_type": "code",
   "execution_count": 369,
   "id": "9fc93c19",
   "metadata": {},
   "outputs": [
    {
     "data": {
      "text/plain": [
       "array([-2.14748365e+09])"
      ]
     },
     "execution_count": 369,
     "metadata": {},
     "output_type": "execute_result"
    }
   ],
   "source": [
    "np.array([np.nan]).astype(int).astype(float)"
   ]
  },
  {
   "cell_type": "code",
   "execution_count": 366,
   "id": "fb36dcd9",
   "metadata": {},
   "outputs": [
    {
     "data": {
      "text/plain": [
       "numpy.ndarray"
      ]
     },
     "execution_count": 366,
     "metadata": {},
     "output_type": "execute_result"
    }
   ],
   "source": [
    "type(np.array([np.nan]).astype(int).astype(float))          #### to find type this array"
   ]
  },
  {
   "cell_type": "code",
   "execution_count": 367,
   "id": "fed32e0c",
   "metadata": {},
   "outputs": [
    {
     "data": {
      "text/plain": [
       "array([nan])"
      ]
     },
     "execution_count": 367,
     "metadata": {},
     "output_type": "execute_result"
    }
   ],
   "source": [
    "np.array([np.nan])"
   ]
  },
  {
   "cell_type": "markdown",
   "id": "a39c16a8",
   "metadata": {},
   "source": [
    "# How to find common values between two arrays? \n"
   ]
  },
  {
   "cell_type": "code",
   "execution_count": 371,
   "id": "bd6215b3",
   "metadata": {},
   "outputs": [],
   "source": [
    "import numpy as np\n",
    "x=np.arange(1,6)\n",
    "y=np.arange(4,10)"
   ]
  },
  {
   "cell_type": "code",
   "execution_count": 372,
   "id": "cb186ae5",
   "metadata": {},
   "outputs": [
    {
     "data": {
      "text/plain": [
       "array([1, 2, 3, 4, 5])"
      ]
     },
     "execution_count": 372,
     "metadata": {},
     "output_type": "execute_result"
    }
   ],
   "source": [
    "np.int"
   ]
  },
  {
   "cell_type": "code",
   "execution_count": 373,
   "id": "27ab8412",
   "metadata": {},
   "outputs": [
    {
     "data": {
      "text/plain": [
       "array([4, 5, 6, 7, 8, 9])"
      ]
     },
     "execution_count": 373,
     "metadata": {},
     "output_type": "execute_result"
    }
   ],
   "source": [
    "y"
   ]
  },
  {
   "cell_type": "code",
   "execution_count": 378,
   "id": "6fa750be",
   "metadata": {},
   "outputs": [
    {
     "data": {
      "text/plain": [
       "array([4, 5])"
      ]
     },
     "execution_count": 378,
     "metadata": {},
     "output_type": "execute_result"
    }
   ],
   "source": [
    "np.intersect1d(x,y)"
   ]
  },
  {
   "cell_type": "code",
   "execution_count": null,
   "id": "6e833255",
   "metadata": {},
   "outputs": [],
   "source": []
  },
  {
   "cell_type": "markdown",
   "id": "0893a811",
   "metadata": {},
   "source": [
    "# How to ignore all numpy warnings (not recommended)? "
   ]
  },
  {
   "cell_type": "code",
   "execution_count": null,
   "id": "6fde8e78",
   "metadata": {},
   "outputs": [],
   "source": []
  },
  {
   "cell_type": "markdown",
   "id": "795b925c",
   "metadata": {},
   "source": [
    "# Is the following expressions true? \n"
   ]
  },
  {
   "cell_type": "raw",
   "id": "38745d7b",
   "metadata": {},
   "source": [
    "np.sqrt(-1) == np.emath.sqrt(-1)"
   ]
  },
  {
   "cell_type": "code",
   "execution_count": 169,
   "id": "eda3b5b4",
   "metadata": {},
   "outputs": [],
   "source": [
    "import numpy as np"
   ]
  },
  {
   "cell_type": "code",
   "execution_count": 170,
   "id": "969861df",
   "metadata": {},
   "outputs": [
    {
     "name": "stderr",
     "output_type": "stream",
     "text": [
      "C:\\Users\\PRASADH\\AppData\\Local\\Temp\\ipykernel_12636\\244602691.py:1: RuntimeWarning: invalid value encountered in sqrt\n",
      "  np.sqrt(-1) == np.emath.sqrt(-1)\n"
     ]
    },
    {
     "data": {
      "text/plain": [
       "False"
      ]
     },
     "execution_count": 170,
     "metadata": {},
     "output_type": "execute_result"
    }
   ],
   "source": [
    "np.sqrt(-1) == np.emath.sqrt(-1)"
   ]
  },
  {
   "cell_type": "markdown",
   "id": "4b4d2255",
   "metadata": {},
   "source": [
    "# How to get the dates of yesterday, today and tomorrow? "
   ]
  },
  {
   "cell_type": "code",
   "execution_count": 383,
   "id": "8b39c7c3",
   "metadata": {},
   "outputs": [],
   "source": [
    "import numpy as np"
   ]
  },
  {
   "cell_type": "code",
   "execution_count": null,
   "id": "095ba55f",
   "metadata": {},
   "outputs": [],
   "source": []
  },
  {
   "cell_type": "markdown",
   "id": "1301097b",
   "metadata": {},
   "source": [
    "# How to get all the dates corresponding to the month of July 2016? \n"
   ]
  },
  {
   "cell_type": "code",
   "execution_count": null,
   "id": "bbc450c5",
   "metadata": {},
   "outputs": [],
   "source": []
  },
  {
   "cell_type": "markdown",
   "id": "c4700fd8",
   "metadata": {},
   "source": [
    "# Extract the integer part of a random array of positive numbers using 4 different methods "
   ]
  },
  {
   "cell_type": "code",
   "execution_count": null,
   "id": "02194cd2",
   "metadata": {},
   "outputs": [],
   "source": []
  },
  {
   "cell_type": "markdown",
   "id": "d4a9aea5",
   "metadata": {},
   "source": [
    "# Create a 5x5 matrix with row values ranging from 0 to 5 \n"
   ]
  },
  {
   "cell_type": "code",
   "execution_count": 47,
   "id": "3cbd3a4b",
   "metadata": {},
   "outputs": [],
   "source": [
    "import numpy as np\n",
    "data =np.arange(0,5)"
   ]
  },
  {
   "cell_type": "code",
   "execution_count": 48,
   "id": "61c12c8e",
   "metadata": {},
   "outputs": [
    {
     "data": {
      "text/plain": [
       "array([0, 1, 2, 3, 4])"
      ]
     },
     "execution_count": 48,
     "metadata": {},
     "output_type": "execute_result"
    }
   ],
   "source": [
    "data"
   ]
  },
  {
   "cell_type": "code",
   "execution_count": null,
   "id": "dfc22bc4",
   "metadata": {},
   "outputs": [],
   "source": []
  },
  {
   "cell_type": "code",
   "execution_count": null,
   "id": "df693fc0",
   "metadata": {},
   "outputs": [],
   "source": []
  },
  {
   "cell_type": "markdown",
   "id": "872b2ecb",
   "metadata": {},
   "source": [
    "# Create a vector of size 10 with values ranging from 0 to 1, both excluded \n"
   ]
  },
  {
   "cell_type": "code",
   "execution_count": 19,
   "id": "ee9c71e6",
   "metadata": {},
   "outputs": [],
   "source": [
    "import numpy as np\n",
    "data=np.random.rand(10) "
   ]
  },
  {
   "cell_type": "code",
   "execution_count": 20,
   "id": "d81c4e05",
   "metadata": {},
   "outputs": [
    {
     "data": {
      "text/plain": [
       "array([0.60324727, 0.87362282, 0.53458322, 0.05315699, 0.734948  ,\n",
       "       0.90083839, 0.15558326, 0.89915099, 0.20152619, 0.64692147])"
      ]
     },
     "execution_count": 20,
     "metadata": {},
     "output_type": "execute_result"
    }
   ],
   "source": [
    " data"
   ]
  },
  {
   "cell_type": "code",
   "execution_count": null,
   "id": "dc8872e7",
   "metadata": {},
   "outputs": [],
   "source": []
  },
  {
   "cell_type": "markdown",
   "id": "e7479f6d",
   "metadata": {},
   "source": [
    "# Create a random vector of size 20 and sort it \n"
   ]
  },
  {
   "cell_type": "code",
   "execution_count": 176,
   "id": "7658ce61",
   "metadata": {},
   "outputs": [],
   "source": [
    "import numpy as np\n",
    "data=np.random.randint(10,150,20)"
   ]
  },
  {
   "cell_type": "code",
   "execution_count": 177,
   "id": "26093436",
   "metadata": {},
   "outputs": [
    {
     "data": {
      "text/plain": [
       "array([107, 110,  88, 117,  26, 120,  59,  78,  13, 123,  53,  82, 135,\n",
       "       147,  54,  94,  66,  85, 121, 100])"
      ]
     },
     "execution_count": 177,
     "metadata": {},
     "output_type": "execute_result"
    }
   ],
   "source": [
    "data"
   ]
  },
  {
   "cell_type": "code",
   "execution_count": 178,
   "id": "740d896e",
   "metadata": {},
   "outputs": [],
   "source": [
    "data.sort()"
   ]
  },
  {
   "cell_type": "code",
   "execution_count": 179,
   "id": "f4792809",
   "metadata": {},
   "outputs": [
    {
     "data": {
      "text/plain": [
       "array([ 13,  26,  53,  54,  59,  66,  78,  82,  85,  88,  94, 100, 107,\n",
       "       110, 117, 120, 121, 123, 135, 147])"
      ]
     },
     "execution_count": 179,
     "metadata": {},
     "output_type": "execute_result"
    }
   ],
   "source": [
    "data"
   ]
  },
  {
   "cell_type": "markdown",
   "id": "64feb204",
   "metadata": {},
   "source": [
    "# How to sum a small array faster than np.sum? \n"
   ]
  },
  {
   "cell_type": "code",
   "execution_count": null,
   "id": "873f6aaf",
   "metadata": {},
   "outputs": [],
   "source": []
  },
  {
   "cell_type": "code",
   "execution_count": null,
   "id": "1a00b643",
   "metadata": {},
   "outputs": [],
   "source": []
  },
  {
   "cell_type": "markdown",
   "id": "1900a3ee",
   "metadata": {},
   "source": [
    "# Consider two random array A and B, check if they are equal \n"
   ]
  },
  {
   "cell_type": "code",
   "execution_count": 21,
   "id": "4ddeb915",
   "metadata": {},
   "outputs": [],
   "source": [
    "import numpy as np\n",
    "x=np.arange(1,6)\n",
    "y=np.arange(4,10)"
   ]
  },
  {
   "cell_type": "code",
   "execution_count": 23,
   "id": "e434bd14",
   "metadata": {},
   "outputs": [
    {
     "data": {
      "text/plain": [
       "False"
      ]
     },
     "execution_count": 23,
     "metadata": {},
     "output_type": "execute_result"
    }
   ],
   "source": [
    "np.array_equal(x,y)          ### just used inbuilt function"
   ]
  },
  {
   "cell_type": "code",
   "execution_count": 24,
   "id": "dd362a4e",
   "metadata": {},
   "outputs": [],
   "source": [
    "import numpy as np\n",
    "x=np.arange(1,6)\n",
    "y=np.arange(1,6)"
   ]
  },
  {
   "cell_type": "code",
   "execution_count": 25,
   "id": "a9233da9",
   "metadata": {},
   "outputs": [
    {
     "data": {
      "text/plain": [
       "True"
      ]
     },
     "execution_count": 25,
     "metadata": {},
     "output_type": "execute_result"
    }
   ],
   "source": [
    "np.array_equal(x,y) "
   ]
  },
  {
   "cell_type": "markdown",
   "id": "20ce1628",
   "metadata": {},
   "source": [
    "# Make an array immutable (read-only) "
   ]
  },
  {
   "cell_type": "code",
   "execution_count": 26,
   "id": "afbeb011",
   "metadata": {},
   "outputs": [],
   "source": [
    "import numpy as np\n",
    "x=np.arange(1,6)"
   ]
  },
  {
   "cell_type": "code",
   "execution_count": 27,
   "id": "683e4447",
   "metadata": {},
   "outputs": [],
   "source": [
    "x.flags.writeable = False            #### this also inbuilt function"
   ]
  },
  {
   "cell_type": "code",
   "execution_count": 28,
   "id": "a39e0076",
   "metadata": {},
   "outputs": [
    {
     "data": {
      "text/plain": [
       "array([1, 2, 3, 4, 5])"
      ]
     },
     "execution_count": 28,
     "metadata": {},
     "output_type": "execute_result"
    }
   ],
   "source": [
    "x"
   ]
  },
  {
   "cell_type": "code",
   "execution_count": 29,
   "id": "0b934951",
   "metadata": {},
   "outputs": [
    {
     "ename": "ValueError",
     "evalue": "assignment destination is read-only",
     "output_type": "error",
     "traceback": [
      "\u001b[1;31m---------------------------------------------------------------------------\u001b[0m",
      "\u001b[1;31mValueError\u001b[0m                                Traceback (most recent call last)",
      "\u001b[1;32m~\\AppData\\Local\\Temp\\ipykernel_5844\\3737276643.py\u001b[0m in \u001b[0;36m<module>\u001b[1;34m\u001b[0m\n\u001b[1;32m----> 1\u001b[1;33m \u001b[0mx\u001b[0m\u001b[1;33m[\u001b[0m\u001b[1;36m6\u001b[0m\u001b[1;33m]\u001b[0m \u001b[1;33m=\u001b[0m \u001b[1;36m10\u001b[0m\u001b[1;33m\u001b[0m\u001b[1;33m\u001b[0m\u001b[0m\n\u001b[0m",
      "\u001b[1;31mValueError\u001b[0m: assignment destination is read-only"
     ]
    }
   ],
   "source": [
    "x[6] = 10     ### allows read only"
   ]
  },
  {
   "cell_type": "markdown",
   "id": "56641281",
   "metadata": {},
   "source": [
    "# Consider a random 5x2 matrix representing cartesian coordinates, convert them to polar coordinates "
   ]
  },
  {
   "attachments": {
    "thumbnail_l.jpeg": {
     "image/jpeg": "[encoded data removed]"
    }
   },
   "cell_type": "markdown",
   "id": "1e874840",
   "metadata": {},
   "source": [
    "![thumbnail_l.jpeg](attachment:thumbnail_l.jpeg)"
   ]
  },
  {
   "cell_type": "code",
   "execution_count": 51,
   "id": "51c06528",
   "metadata": {},
   "outputs": [],
   "source": [
    "import numpy as np\n",
    "data=np.random.randint(1,9,(5,2))"
   ]
  },
  {
   "cell_type": "code",
   "execution_count": 52,
   "id": "a49a3bf8",
   "metadata": {},
   "outputs": [
    {
     "data": {
      "text/plain": [
       "array([[7, 4],\n",
       "       [6, 5],\n",
       "       [4, 5],\n",
       "       [2, 2],\n",
       "       [8, 4]])"
      ]
     },
     "execution_count": 52,
     "metadata": {},
     "output_type": "execute_result"
    }
   ],
   "source": [
    "data              ### now we have to derive as for formula"
   ]
  },
  {
   "cell_type": "code",
   "execution_count": 57,
   "id": "03f0bbef",
   "metadata": {},
   "outputs": [],
   "source": [
    "x = data[0:,0:1]"
   ]
  },
  {
   "cell_type": "code",
   "execution_count": 58,
   "id": "4c463964",
   "metadata": {},
   "outputs": [],
   "source": [
    "y = data[0:, 1:2]"
   ]
  },
  {
   "cell_type": "code",
   "execution_count": 60,
   "id": "53373a07",
   "metadata": {},
   "outputs": [],
   "source": [
    "r = np.sqrt(x**2 + y**2)\n",
    "θ = np.arctan(y/x)"
   ]
  },
  {
   "cell_type": "code",
   "execution_count": 62,
   "id": "3f10302e",
   "metadata": {},
   "outputs": [
    {
     "name": "stdout",
     "output_type": "stream",
     "text": [
      "[[8.06225775]\n",
      " [7.81024968]\n",
      " [6.40312424]\n",
      " [2.82842712]\n",
      " [8.94427191]]\n",
      "[[0.51914611]\n",
      " [0.69473828]\n",
      " [0.89605538]\n",
      " [0.78539816]\n",
      " [0.46364761]]\n"
     ]
    },
    {
     "data": {
      "text/plain": [
       "(None, None)"
      ]
     },
     "execution_count": 62,
     "metadata": {},
     "output_type": "execute_result"
    }
   ],
   "source": [
    "print(r), print(θ)"
   ]
  },
  {
   "cell_type": "markdown",
   "id": "5bdf4dc2",
   "metadata": {},
   "source": [
    "# Create random vector of size 20 and replace the maximum value by 0 \n"
   ]
  },
  {
   "cell_type": "code",
   "execution_count": 68,
   "id": "7cde6746",
   "metadata": {},
   "outputs": [],
   "source": [
    "import numpy as np\n",
    "data = np.random.randint(1,20,20)"
   ]
  },
  {
   "cell_type": "code",
   "execution_count": 69,
   "id": "1fbd2b25",
   "metadata": {},
   "outputs": [
    {
     "data": {
      "text/plain": [
       "array([ 5, 16, 10,  9, 12, 11,  3, 14, 15,  5,  3,  2,  8,  2, 11, 12, 10,\n",
       "       17,  3, 12])"
      ]
     },
     "execution_count": 69,
     "metadata": {},
     "output_type": "execute_result"
    }
   ],
   "source": [
    "data"
   ]
  },
  {
   "cell_type": "code",
   "execution_count": 70,
   "id": "c9cc7da7",
   "metadata": {},
   "outputs": [
    {
     "data": {
      "text/plain": [
       "17"
      ]
     },
     "execution_count": 70,
     "metadata": {},
     "output_type": "execute_result"
    }
   ],
   "source": [
    "data.max()"
   ]
  },
  {
   "cell_type": "code",
   "execution_count": 71,
   "id": "1eacb715",
   "metadata": {},
   "outputs": [
    {
     "data": {
      "text/plain": [
       "17"
      ]
     },
     "execution_count": 71,
     "metadata": {},
     "output_type": "execute_result"
    }
   ],
   "source": [
    "data.argmax()"
   ]
  },
  {
   "cell_type": "code",
   "execution_count": 72,
   "id": "dc6c4877",
   "metadata": {},
   "outputs": [],
   "source": [
    "data[17] = 0"
   ]
  },
  {
   "cell_type": "code",
   "execution_count": 73,
   "id": "618811e7",
   "metadata": {},
   "outputs": [
    {
     "data": {
      "text/plain": [
       "array([ 5, 16, 10,  9, 12, 11,  3, 14, 15,  5,  3,  2,  8,  2, 11, 12, 10,\n",
       "        0,  3, 12])"
      ]
     },
     "execution_count": 73,
     "metadata": {},
     "output_type": "execute_result"
    }
   ],
   "source": [
    "data"
   ]
  },
  {
   "cell_type": "code",
   "execution_count": 74,
   "id": "f88ee1ce",
   "metadata": {},
   "outputs": [
    {
     "data": {
      "text/plain": [
       "16"
      ]
     },
     "execution_count": 74,
     "metadata": {},
     "output_type": "execute_result"
    }
   ],
   "source": [
    "data.max()          ### see max value get changed, before it is 17, we replaced that with \"0\""
   ]
  },
  {
   "cell_type": "markdown",
   "id": "3058bd6b",
   "metadata": {},
   "source": [
    "# Print the minimum and maximum representable value for each numpy scalar type "
   ]
  },
  {
   "cell_type": "code",
   "execution_count": null,
   "id": "92333635",
   "metadata": {},
   "outputs": [],
   "source": [
    "import numpy as np\n",
    "print(np.int8)\n",
    "print(np.int16)\n",
    "print(np.int32)\n",
    "print(np.int64)\n",
    "print(\" \")\n",
    "\n",
    "print(np.float16)\n",
    "print(np.float32)\n",
    "print(np.float64)"
   ]
  },
  {
   "cell_type": "code",
   "execution_count": 52,
   "id": "1dba9d3a",
   "metadata": {},
   "outputs": [
    {
     "data": {
      "text/plain": [
       "iinfo(min=-128, max=127, dtype=int8)"
      ]
     },
     "execution_count": 52,
     "metadata": {},
     "output_type": "execute_result"
    }
   ],
   "source": [
    "np.iinfo(np.int8)          ### integer information (min, max)"
   ]
  },
  {
   "cell_type": "code",
   "execution_count": 53,
   "id": "cb845036",
   "metadata": {},
   "outputs": [
    {
     "data": {
      "text/plain": [
       "iinfo(min=-32768, max=32767, dtype=int16)"
      ]
     },
     "execution_count": 53,
     "metadata": {},
     "output_type": "execute_result"
    }
   ],
   "source": [
    "np.iinfo(np.int16) "
   ]
  },
  {
   "cell_type": "code",
   "execution_count": 54,
   "id": "a3c6a737",
   "metadata": {},
   "outputs": [
    {
     "data": {
      "text/plain": [
       "iinfo(min=-2147483648, max=2147483647, dtype=int32)"
      ]
     },
     "execution_count": 54,
     "metadata": {},
     "output_type": "execute_result"
    }
   ],
   "source": [
    "np.iinfo(np.int32) "
   ]
  },
  {
   "cell_type": "code",
   "execution_count": 55,
   "id": "f8e3182d",
   "metadata": {},
   "outputs": [
    {
     "data": {
      "text/plain": [
       "iinfo(min=-9223372036854775808, max=9223372036854775807, dtype=int64)"
      ]
     },
     "execution_count": 55,
     "metadata": {},
     "output_type": "execute_result"
    }
   ],
   "source": [
    "np.iinfo(np.int64) "
   ]
  },
  {
   "cell_type": "code",
   "execution_count": 56,
   "id": "9bcd66ed",
   "metadata": {},
   "outputs": [
    {
     "data": {
      "text/plain": [
       "finfo(resolution=0.001, min=-6.55040e+04, max=6.55040e+04, dtype=float16)"
      ]
     },
     "execution_count": 56,
     "metadata": {},
     "output_type": "execute_result"
    }
   ],
   "source": [
    "np.finfo(np.float16)      ### floating integer information"
   ]
  },
  {
   "cell_type": "code",
   "execution_count": 57,
   "id": "c6412bd9",
   "metadata": {},
   "outputs": [
    {
     "data": {
      "text/plain": [
       "finfo(resolution=1e-06, min=-3.4028235e+38, max=3.4028235e+38, dtype=float32)"
      ]
     },
     "execution_count": 57,
     "metadata": {},
     "output_type": "execute_result"
    }
   ],
   "source": [
    "np.finfo(np.float32)"
   ]
  },
  {
   "cell_type": "code",
   "execution_count": 58,
   "id": "897278fc",
   "metadata": {},
   "outputs": [
    {
     "data": {
      "text/plain": [
       "finfo(resolution=1e-15, min=-1.7976931348623157e+308, max=1.7976931348623157e+308, dtype=float64)"
      ]
     },
     "execution_count": 58,
     "metadata": {},
     "output_type": "execute_result"
    }
   ],
   "source": [
    "np.finfo(np.float64)"
   ]
  },
  {
   "cell_type": "markdown",
   "id": "ea902cc8",
   "metadata": {},
   "source": [
    "# How to print all the values of an array? \n"
   ]
  },
  {
   "cell_type": "code",
   "execution_count": 75,
   "id": "00f14e3f",
   "metadata": {},
   "outputs": [],
   "source": [
    "import numpy as np\n",
    "data = np.random.randint(1,20,20)"
   ]
  },
  {
   "cell_type": "code",
   "execution_count": 81,
   "id": "e96f3360",
   "metadata": {},
   "outputs": [
    {
     "ename": "TypeError",
     "evalue": "'int' object is not subscriptable",
     "output_type": "error",
     "traceback": [
      "\u001b[1;31m---------------------------------------------------------------------------\u001b[0m",
      "\u001b[1;31mTypeError\u001b[0m                                 Traceback (most recent call last)",
      "\u001b[1;32m~\\AppData\\Local\\Temp\\ipykernel_5844\\1028475523.py\u001b[0m in \u001b[0;36m<module>\u001b[1;34m\u001b[0m\n\u001b[0;32m      1\u001b[0m \u001b[0mx\u001b[0m \u001b[1;33m=\u001b[0m \u001b[0mlen\u001b[0m\u001b[1;33m(\u001b[0m\u001b[0mdata\u001b[0m\u001b[1;33m)\u001b[0m\u001b[1;33m\u001b[0m\u001b[1;33m\u001b[0m\u001b[0m\n\u001b[0;32m      2\u001b[0m \u001b[1;32mfor\u001b[0m \u001b[0mi\u001b[0m \u001b[1;32min\u001b[0m \u001b[0mrange\u001b[0m\u001b[1;33m(\u001b[0m\u001b[1;36m1\u001b[0m\u001b[1;33m,\u001b[0m\u001b[0mx\u001b[0m\u001b[1;33m+\u001b[0m\u001b[1;36m1\u001b[0m\u001b[1;33m)\u001b[0m\u001b[1;33m:\u001b[0m\u001b[1;33m\u001b[0m\u001b[1;33m\u001b[0m\u001b[0m\n\u001b[1;32m----> 3\u001b[1;33m     \u001b[0mprint\u001b[0m\u001b[1;33m(\u001b[0m\u001b[0mx\u001b[0m\u001b[1;33m[\u001b[0m\u001b[0mi\u001b[0m\u001b[1;33m]\u001b[0m\u001b[1;33m)\u001b[0m\u001b[1;33m\u001b[0m\u001b[1;33m\u001b[0m\u001b[0m\n\u001b[0m",
      "\u001b[1;31mTypeError\u001b[0m: 'int' object is not subscriptable"
     ]
    }
   ],
   "source": [
    "x = len(data)\n",
    "for i in range(1,x+1):\n",
    "   "
   ]
  },
  {
   "cell_type": "code",
   "execution_count": null,
   "id": "2b71c93d",
   "metadata": {},
   "outputs": [],
   "source": []
  },
  {
   "cell_type": "markdown",
   "id": "db528472",
   "metadata": {},
   "source": [
    "# How to convert a float (32 bits) array into an integer (32 bits) in place"
   ]
  },
  {
   "cell_type": "code",
   "execution_count": 76,
   "id": "15ff684f",
   "metadata": {},
   "outputs": [],
   "source": [
    "import numpy as np"
   ]
  },
  {
   "cell_type": "code",
   "execution_count": 77,
   "id": "0e186124",
   "metadata": {},
   "outputs": [],
   "source": [
    "data = np.array([1.4,2.5,6.7,8.3])"
   ]
  },
  {
   "cell_type": "code",
   "execution_count": 78,
   "id": "1749ff71",
   "metadata": {},
   "outputs": [
    {
     "data": {
      "text/plain": [
       "array([1.4, 2.5, 6.7, 8.3])"
      ]
     },
     "execution_count": 78,
     "metadata": {},
     "output_type": "execute_result"
    }
   ],
   "source": [
    "data"
   ]
  },
  {
   "cell_type": "code",
   "execution_count": 79,
   "id": "96688990",
   "metadata": {},
   "outputs": [
    {
     "ename": "NameError",
     "evalue": "name 'int32' is not defined",
     "output_type": "error",
     "traceback": [
      "\u001b[1;31m---------------------------------------------------------------------------\u001b[0m",
      "\u001b[1;31mNameError\u001b[0m                                 Traceback (most recent call last)",
      "\u001b[1;32m~\\AppData\\Local\\Temp\\ipykernel_15808\\1675752765.py\u001b[0m in \u001b[0;36m<module>\u001b[1;34m\u001b[0m\n\u001b[1;32m----> 1\u001b[1;33m \u001b[0mdata1\u001b[0m \u001b[1;33m=\u001b[0m \u001b[0mnp\u001b[0m\u001b[1;33m.\u001b[0m\u001b[0marray\u001b[0m\u001b[1;33m(\u001b[0m\u001b[0mdata\u001b[0m\u001b[1;33m,\u001b[0m \u001b[0mdtype\u001b[0m \u001b[1;33m=\u001b[0m\u001b[0mint32\u001b[0m\u001b[1;33m)\u001b[0m                   \u001b[1;31m### this is in numpy conversion\u001b[0m\u001b[1;33m\u001b[0m\u001b[1;33m\u001b[0m\u001b[0m\n\u001b[0m",
      "\u001b[1;31mNameError\u001b[0m: name 'int32' is not defined"
     ]
    }
   ],
   "source": [
    "data1 = np.array(data, dtype =int32)                   ### this is in numpy int32 conversion"
   ]
  },
  {
   "cell_type": "code",
   "execution_count": 80,
   "id": "75a408fc",
   "metadata": {},
   "outputs": [],
   "source": [
    "data1 = np.array(data, dtype =\"int32\")"
   ]
  },
  {
   "cell_type": "code",
   "execution_count": 81,
   "id": "7e5670ac",
   "metadata": {},
   "outputs": [
    {
     "data": {
      "text/plain": [
       "numpy.ndarray"
      ]
     },
     "execution_count": 81,
     "metadata": {},
     "output_type": "execute_result"
    }
   ],
   "source": [
    "type(data1)"
   ]
  },
  {
   "cell_type": "code",
   "execution_count": 82,
   "id": "a69b7f16",
   "metadata": {},
   "outputs": [
    {
     "data": {
      "text/plain": [
       "array([1, 2, 6, 8])"
      ]
     },
     "execution_count": 82,
     "metadata": {},
     "output_type": "execute_result"
    }
   ],
   "source": [
    "data1               ### here we are getting integer values"
   ]
  },
  {
   "cell_type": "code",
   "execution_count": null,
   "id": "4aa7f094",
   "metadata": {},
   "outputs": [],
   "source": [
    "df['total _bill'] = df['total_bill'].astype(np.int8)    ### this is in pandas conversion"
   ]
  },
  {
   "cell_type": "markdown",
   "id": "7c434cfd",
   "metadata": {},
   "source": [
    "# How to randomly place p elements in a 2D array? "
   ]
  },
  {
   "cell_type": "code",
   "execution_count": null,
   "id": "b26d275d",
   "metadata": {},
   "outputs": [],
   "source": []
  },
  {
   "cell_type": "markdown",
   "id": "c4bf532f",
   "metadata": {},
   "source": [
    "# Subtract the mean of each row of a matrix \n"
   ]
  },
  {
   "cell_type": "code",
   "execution_count": 90,
   "id": "b55b7c6b",
   "metadata": {},
   "outputs": [],
   "source": [
    "import numpy as np\n",
    "data = np.random.randint(1,30, (3,3))"
   ]
  },
  {
   "cell_type": "code",
   "execution_count": 103,
   "id": "c4f71258",
   "metadata": {},
   "outputs": [
    {
     "data": {
      "text/plain": [
       "array([[27,  1, 16],\n",
       "       [12, 12, 14],\n",
       "       [10, 23, 27]])"
      ]
     },
     "execution_count": 103,
     "metadata": {},
     "output_type": "execute_result"
    }
   ],
   "source": [
    "data"
   ]
  },
  {
   "cell_type": "code",
   "execution_count": 104,
   "id": "8837325d",
   "metadata": {},
   "outputs": [],
   "source": [
    "r_mean =np.mean(data, axis=1)       ## by using matrix Brodcasting method & matrix functions"
   ]
  },
  {
   "cell_type": "code",
   "execution_count": 105,
   "id": "a315d490",
   "metadata": {},
   "outputs": [
    {
     "data": {
      "text/plain": [
       "array([14.66666667, 12.66666667, 20.        ])"
      ]
     },
     "execution_count": 105,
     "metadata": {},
     "output_type": "execute_result"
    }
   ],
   "source": [
    "r_mean"
   ]
  },
  {
   "cell_type": "code",
   "execution_count": 106,
   "id": "5ecbecf4",
   "metadata": {},
   "outputs": [
    {
     "data": {
      "text/plain": [
       "(3,)"
      ]
     },
     "execution_count": 106,
     "metadata": {},
     "output_type": "execute_result"
    }
   ],
   "source": [
    "r_mean.shape     ### the rank is (3*1)"
   ]
  },
  {
   "cell_type": "code",
   "execution_count": 107,
   "id": "b6f92f6f",
   "metadata": {},
   "outputs": [],
   "source": [
    "main = data - r_mean      ### here, subtracting the mean of each row with main matrix"
   ]
  },
  {
   "cell_type": "code",
   "execution_count": 108,
   "id": "b98cb6ad",
   "metadata": {},
   "outputs": [
    {
     "data": {
      "text/plain": [
       "array([[ 12.33333333, -11.66666667,  -4.        ],\n",
       "       [ -2.66666667,  -0.66666667,  -6.        ],\n",
       "       [ -4.66666667,  10.33333333,   7.        ]])"
      ]
     },
     "execution_count": 108,
     "metadata": {},
     "output_type": "execute_result"
    }
   ],
   "source": [
    "main"
   ]
  },
  {
   "cell_type": "code",
   "execution_count": null,
   "id": "436b9124",
   "metadata": {},
   "outputs": [],
   "source": []
  },
  {
   "cell_type": "markdown",
   "id": "b5f870e8",
   "metadata": {},
   "source": [
    "# How to sort an array by the nth column? "
   ]
  },
  {
   "cell_type": "code",
   "execution_count": null,
   "id": "44cd5496",
   "metadata": {},
   "outputs": [],
   "source": []
  },
  {
   "cell_type": "markdown",
   "id": "1704be44",
   "metadata": {},
   "source": [
    "# How to tell if a given 2D array has null columns? \n"
   ]
  },
  {
   "cell_type": "code",
   "execution_count": 109,
   "id": "f01eb2ab",
   "metadata": {},
   "outputs": [],
   "source": [
    "import numpy as np\n",
    "data = np.random.randint(1,30, (3,3))"
   ]
  },
  {
   "cell_type": "code",
   "execution_count": 110,
   "id": "363f463f",
   "metadata": {},
   "outputs": [
    {
     "data": {
      "text/plain": [
       "array([[22, 22,  3],\n",
       "       [ 3, 17, 27],\n",
       "       [13,  3, 21]])"
      ]
     },
     "execution_count": 110,
     "metadata": {},
     "output_type": "execute_result"
    }
   ],
   "source": [
    "data"
   ]
  },
  {
   "cell_type": "code",
   "execution_count": null,
   "id": "f272f0bf",
   "metadata": {},
   "outputs": [],
   "source": []
  },
  {
   "cell_type": "code",
   "execution_count": null,
   "id": "4d8036ba",
   "metadata": {},
   "outputs": [],
   "source": []
  },
  {
   "cell_type": "code",
   "execution_count": null,
   "id": "1fbfdcef",
   "metadata": {},
   "outputs": [],
   "source": []
  },
  {
   "cell_type": "markdown",
   "id": "44b4996b",
   "metadata": {},
   "source": [
    "# Considering a four dimensions array, how to get sum over the last two axis at once? "
   ]
  },
  {
   "cell_type": "code",
   "execution_count": null,
   "id": "178208e8",
   "metadata": {},
   "outputs": [],
   "source": []
  },
  {
   "cell_type": "markdown",
   "id": "dc2e8f52",
   "metadata": {},
   "source": [
    "# How to get the diagonal of a dot product? "
   ]
  },
  {
   "cell_type": "code",
   "execution_count": 140,
   "id": "5a244fd8",
   "metadata": {},
   "outputs": [],
   "source": [
    "import numpy as np\n",
    "mat1 = np.random.randint(1,5, (3,3))     ### here, dot product means two matrices\n",
    "mat2 = np.random.randint(1,5, (3,3))"
   ]
  },
  {
   "cell_type": "code",
   "execution_count": 141,
   "id": "cca86d45",
   "metadata": {},
   "outputs": [
    {
     "data": {
      "text/plain": [
       "array([[1, 2, 2],\n",
       "       [3, 3, 1],\n",
       "       [2, 1, 4]])"
      ]
     },
     "execution_count": 141,
     "metadata": {},
     "output_type": "execute_result"
    }
   ],
   "source": [
    "mat1"
   ]
  },
  {
   "cell_type": "code",
   "execution_count": 142,
   "id": "b00cd34d",
   "metadata": {},
   "outputs": [
    {
     "data": {
      "text/plain": [
       "array([[1, 4, 1],\n",
       "       [2, 4, 3],\n",
       "       [4, 4, 4]])"
      ]
     },
     "execution_count": 142,
     "metadata": {},
     "output_type": "execute_result"
    }
   ],
   "source": [
    "mat2"
   ]
  },
  {
   "cell_type": "code",
   "execution_count": 143,
   "id": "444635ef",
   "metadata": {},
   "outputs": [],
   "source": [
    "dia_matrix =np.diagonal(np.dot(mat1,mat2))"
   ]
  },
  {
   "cell_type": "code",
   "execution_count": 144,
   "id": "82e8f165",
   "metadata": {},
   "outputs": [
    {
     "data": {
      "text/plain": [
       "(3,)"
      ]
     },
     "execution_count": 144,
     "metadata": {},
     "output_type": "execute_result"
    }
   ],
   "source": [
    "dia_matrix.shape      ### order is (3*1)"
   ]
  },
  {
   "cell_type": "code",
   "execution_count": 145,
   "id": "9ba9d232",
   "metadata": {},
   "outputs": [
    {
     "data": {
      "text/plain": [
       "array([13, 28, 21])"
      ]
     },
     "execution_count": 145,
     "metadata": {},
     "output_type": "execute_result"
    }
   ],
   "source": [
    "dia_matrix"
   ]
  },
  {
   "cell_type": "code",
   "execution_count": null,
   "id": "6f080c8a",
   "metadata": {},
   "outputs": [],
   "source": []
  },
  {
   "cell_type": "markdown",
   "id": "3078b151",
   "metadata": {},
   "source": [
    "# Consider the vector [1, 2, 3, 4, 5], how to build a new vector with 3 consecutive zeros interleaved between each value? "
   ]
  },
  {
   "cell_type": "code",
   "execution_count": null,
   "id": "af0e07d5",
   "metadata": {},
   "outputs": [],
   "source": []
  },
  {
   "cell_type": "markdown",
   "id": "7edf759f",
   "metadata": {},
   "source": [
    "# Consider an array of dimension (5,5,3), how to mulitply it by an array with dimensions (5,5)? "
   ]
  },
  {
   "cell_type": "code",
   "execution_count": null,
   "id": "8b77bcd0",
   "metadata": {},
   "outputs": [],
   "source": []
  },
  {
   "cell_type": "markdown",
   "id": "a7461b69",
   "metadata": {},
   "source": [
    "# How to swap two rows of an array? \n"
   ]
  },
  {
   "cell_type": "code",
   "execution_count": 7,
   "id": "fe35cdf6",
   "metadata": {},
   "outputs": [],
   "source": [
    "import numpy as np\n",
    "data = np.random.randint(1,15,(5,4))      ### here, swap = (exchange to each other any two rows)"
   ]
  },
  {
   "cell_type": "code",
   "execution_count": 8,
   "id": "745972e2",
   "metadata": {},
   "outputs": [
    {
     "data": {
      "text/plain": [
       "array([[12, 10, 12,  4],\n",
       "       [ 4, 11,  3,  7],\n",
       "       [ 8,  6, 11,  7],\n",
       "       [13,  1,  9,  5],\n",
       "       [ 9,  6,  3, 11]])"
      ]
     },
     "execution_count": 8,
     "metadata": {},
     "output_type": "execute_result"
    }
   ],
   "source": [
    "data"
   ]
  },
  {
   "cell_type": "code",
   "execution_count": 9,
   "id": "7ef22a34",
   "metadata": {},
   "outputs": [
    {
     "data": {
      "text/plain": [
       "array([[12, 10, 12,  4],\n",
       "       [ 4, 11,  3,  7]])"
      ]
     },
     "execution_count": 9,
     "metadata": {},
     "output_type": "execute_result"
    }
   ],
   "source": [
    "data[0:2]"
   ]
  },
  {
   "cell_type": "code",
   "execution_count": 11,
   "id": "bddab8b0",
   "metadata": {},
   "outputs": [
    {
     "ename": "SyntaxError",
     "evalue": "invalid syntax (383327169.py, line 1)",
     "output_type": "error",
     "traceback": [
      "\u001b[1;36m  File \u001b[1;32m\"C:\\Users\\PRASADH\\AppData\\Local\\Temp\\ipykernel_2588\\383327169.py\"\u001b[1;36m, line \u001b[1;32m1\u001b[0m\n\u001b[1;33m    data([0:2]) = data([2:0])\u001b[0m\n\u001b[1;37m           ^\u001b[0m\n\u001b[1;31mSyntaxError\u001b[0m\u001b[1;31m:\u001b[0m invalid syntax\n"
     ]
    }
   ],
   "source": [
    "data([0:2]) = data([2:0])"
   ]
  },
  {
   "cell_type": "code",
   "execution_count": 13,
   "id": "ed87e4ed",
   "metadata": {},
   "outputs": [],
   "source": [
    "data[[0,2]] = data[[2,0]]"
   ]
  },
  {
   "cell_type": "code",
   "execution_count": 14,
   "id": "7f2a5111",
   "metadata": {},
   "outputs": [
    {
     "data": {
      "text/plain": [
       "array([[ 8,  6, 11,  7],\n",
       "       [ 4, 11,  3,  7],\n",
       "       [12, 10, 12,  4],\n",
       "       [13,  1,  9,  5],\n",
       "       [ 9,  6,  3, 11]])"
      ]
     },
     "execution_count": 14,
     "metadata": {},
     "output_type": "execute_result"
    }
   ],
   "source": [
    "data             ### here, row-1 & row-3 get swaped each other"
   ]
  },
  {
   "cell_type": "markdown",
   "id": "a581d865",
   "metadata": {},
   "source": [
    "# Consider an array Z = [1,2,3,4,5,6,7,8,9,10,11,12,13,14], how to generate an array R = [[1,2,3,4], [2,3,4,5], [3,4,5,6], ..., [11,12,13,14]]? "
   ]
  },
  {
   "cell_type": "code",
   "execution_count": null,
   "id": "a3c714fc",
   "metadata": {},
   "outputs": [],
   "source": []
  },
  {
   "cell_type": "code",
   "execution_count": null,
   "id": "c4377f95",
   "metadata": {},
   "outputs": [],
   "source": []
  },
  {
   "cell_type": "markdown",
   "id": "913f065a",
   "metadata": {},
   "source": [
    "# Compute a matrix rank "
   ]
  },
  {
   "cell_type": "code",
   "execution_count": 4,
   "id": "e788eb15",
   "metadata": {},
   "outputs": [],
   "source": [
    "import numpy as np\n",
    "data = np.random.randint(0,3,(5,5))"
   ]
  },
  {
   "cell_type": "code",
   "execution_count": 5,
   "id": "e24e396d",
   "metadata": {},
   "outputs": [
    {
     "data": {
      "text/plain": [
       "array([[1, 0, 2, 2, 1],\n",
       "       [2, 0, 0, 0, 0],\n",
       "       [0, 0, 0, 2, 2],\n",
       "       [2, 1, 1, 1, 2],\n",
       "       [1, 0, 2, 1, 1]])"
      ]
     },
     "execution_count": 5,
     "metadata": {},
     "output_type": "execute_result"
    }
   ],
   "source": [
    "data             ## Rank of a Matrix by Using Echelon Form\n",
    "                      ###Interchanging two rows.\n",
    "                      ### Multiplying a row by a scalar.\n",
    "                      ### Multiplying a row by a scalar and then adding it to the other row."
   ]
  },
  {
   "cell_type": "code",
   "execution_count": 6,
   "id": "b78a1968",
   "metadata": {},
   "outputs": [
    {
     "data": {
      "text/plain": [
       "5"
      ]
     },
     "execution_count": 6,
     "metadata": {},
     "output_type": "execute_result"
    }
   ],
   "source": [
    "np.linalg.matrix_rank(data)             ### by using inbuilt function"
   ]
  },
  {
   "cell_type": "markdown",
   "id": "11ea221d",
   "metadata": {},
   "source": [
    "# How to find the most frequent value in an array?\n"
   ]
  },
  {
   "cell_type": "code",
   "execution_count": 142,
   "id": "6e29f506",
   "metadata": {},
   "outputs": [],
   "source": [
    "import numpy as np\n",
    "data = np.random.randint(1,5,20)"
   ]
  },
  {
   "cell_type": "code",
   "execution_count": 152,
   "id": "c07458a3",
   "metadata": {},
   "outputs": [
    {
     "data": {
      "text/plain": [
       "array([1, 4, 4, 2, 3, 2, 1, 3, 4, 4, 4, 3, 4, 1, 1, 3, 2, 4, 4, 3])"
      ]
     },
     "execution_count": 152,
     "metadata": {},
     "output_type": "execute_result"
    }
   ],
   "source": [
    "data"
   ]
  },
  {
   "cell_type": "code",
   "execution_count": 153,
   "id": "3a4c448d",
   "metadata": {},
   "outputs": [],
   "source": [
    "data1 =np.bincount(data).argmax()    ### binCount number of occurrences of each value in array of non-negative ints"
   ]
  },
  {
   "cell_type": "code",
   "execution_count": 154,
   "id": "8f28947a",
   "metadata": {},
   "outputs": [
    {
     "data": {
      "text/plain": [
       "4"
      ]
     },
     "execution_count": 154,
     "metadata": {},
     "output_type": "execute_result"
    }
   ],
   "source": [
    "data1          ### here 4 is the most repeating element in the array"
   ]
  },
  {
   "cell_type": "code",
   "execution_count": null,
   "id": "8940d6ed",
   "metadata": {},
   "outputs": [],
   "source": []
  },
  {
   "cell_type": "markdown",
   "id": "a960699a",
   "metadata": {},
   "source": [
    "# How to get the n largest values of an array "
   ]
  },
  {
   "cell_type": "code",
   "execution_count": 14,
   "id": "63b061ff",
   "metadata": {},
   "outputs": [],
   "source": [
    "import numpy as np\n",
    "data = np.random.randint(1,50,20)"
   ]
  },
  {
   "cell_type": "code",
   "execution_count": 161,
   "id": "fc474581",
   "metadata": {},
   "outputs": [
    {
     "data": {
      "text/plain": [
       "array([47, 26, 24, 17, 40, 16, 39, 21, 33, 40, 24, 43, 28, 49, 26, 24, 18,\n",
       "       28, 41, 36])"
      ]
     },
     "execution_count": 161,
     "metadata": {},
     "output_type": "execute_result"
    }
   ],
   "source": [
    "data           "
   ]
  },
  {
   "cell_type": "code",
   "execution_count": 5,
   "id": "b454bdb9",
   "metadata": {},
   "outputs": [],
   "source": [
    "data1 =np.sort(data)"
   ]
  },
  {
   "cell_type": "code",
   "execution_count": 9,
   "id": "fb57913c",
   "metadata": {},
   "outputs": [
    {
     "data": {
      "text/plain": [
       "array([ 2,  3,  9, 16, 17, 21, 22, 23, 23, 24, 24, 25, 26, 29, 31, 36, 37,\n",
       "       38, 47, 49])"
      ]
     },
     "execution_count": 9,
     "metadata": {},
     "output_type": "execute_result"
    }
   ],
   "source": [
    "data1"
   ]
  },
  {
   "cell_type": "code",
   "execution_count": 6,
   "id": "c4be91b0",
   "metadata": {},
   "outputs": [
    {
     "data": {
      "text/plain": [
       "49"
      ]
     },
     "execution_count": 6,
     "metadata": {},
     "output_type": "execute_result"
    }
   ],
   "source": [
    "data1[-1]      ### first largest value"
   ]
  },
  {
   "cell_type": "code",
   "execution_count": 8,
   "id": "64c2ef2d",
   "metadata": {},
   "outputs": [
    {
     "data": {
      "text/plain": [
       "47"
      ]
     },
     "execution_count": 8,
     "metadata": {},
     "output_type": "execute_result"
    }
   ],
   "source": [
    "data1[-2]      ### second largest value"
   ]
  },
  {
   "cell_type": "code",
   "execution_count": null,
   "id": "751b7f7b",
   "metadata": {},
   "outputs": [],
   "source": [
    "data[-3]       ### third largest value"
   ]
  },
  {
   "cell_type": "code",
   "execution_count": null,
   "id": "1c52c225",
   "metadata": {},
   "outputs": [],
   "source": []
  }
 ],
 "metadata": {
  "hide_input": false,
  "kernelspec": {
   "display_name": "Python 3 (ipykernel)",
   "language": "python",
   "name": "python3"
  },
  "language_info": {
   "codemirror_mode": {
    "name": "ipython",
    "version": 3
   },
   "file_extension": ".py",
   "mimetype": "text/x-python",
   "name": "python",
   "nbconvert_exporter": "python",
   "pygments_lexer": "ipython3",
   "version": "3.9.13"
  },
  "toc": {
   "base_numbering": 1,
   "nav_menu": {},
   "number_sections": true,
   "sideBar": true,
   "skip_h1_title": false,
   "title_cell": "Table of Contents",
   "title_sidebar": "Contents",
   "toc_cell": false,
   "toc_position": {},
   "toc_section_display": true,
   "toc_window_display": false
  }
 },
 "nbformat": 4,
 "nbformat_minor": 5
}
